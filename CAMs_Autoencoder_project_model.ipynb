{
  "nbformat": 4,
  "nbformat_minor": 0,
  "metadata": {
    "colab": {
      "provenance": [],
      "mount_file_id": "1pzQCsd7qGm-D1B4sjJ-zdi82GwIyv8se",
      "authorship_tag": "ABX9TyPe1siNZm2Uy5ZvYRhKtYSM",
      "include_colab_link": true
    },
    "kernelspec": {
      "name": "python3",
      "display_name": "Python 3"
    },
    "language_info": {
      "name": "python"
    }
  },
  "cells": [
    {
      "cell_type": "markdown",
      "metadata": {
        "id": "view-in-github",
        "colab_type": "text"
      },
      "source": [
        "<a href=\"https://colab.research.google.com/github/NachoDave/Automated-Vehicle-Anomalous-Driving-Behaviour/blob/main/CAMs_Autoencoder_project_model.ipynb\" target=\"_parent\"><img src=\"https://colab.research.google.com/assets/colab-badge.svg\" alt=\"Open In Colab\"/></a>"
      ]
    },
    {
      "cell_type": "markdown",
      "source": [
        "# Autoencoder project"
      ],
      "metadata": {
        "id": "1AFGlOPh2K_N"
      }
    },
    {
      "cell_type": "markdown",
      "source": [
        "## What do we need to do?\n",
        "\n",
        "\n",
        "1.   Get and format the data\n",
        "2.   Split the data into training, test and validation sets - initially will just add the data one measure at a time, but may need to combine them somehow\n",
        "3. Define the model\n",
        "4. Crea\n",
        "\n"
      ],
      "metadata": {
        "id": "-RLKffLJ2aKM"
      }
    },
    {
      "cell_type": "markdown",
      "source": [
        "### Import Libraries and connect to drive"
      ],
      "metadata": {
        "id": "FxXW9dT24iFC"
      }
    },
    {
      "cell_type": "code",
      "source": [
        "import os\n",
        "import pandas as pd\n",
        "import numpy as np\n",
        "\n",
        "import tensorflow as tf\n",
        "from tensorflow.keras import layers, models\n",
        "from sklearn.model_selection import train_test_split\n",
        "\n",
        "import sys\n",
        "dataset_dir = '/content/drive/MyDrive/datasets/car_hacking'\n",
        "sys.path.append(dataset_dir)\n",
        "\n",
        "import pandas as pd\n",
        "import seaborn as sns\n",
        "import matplotlib.pyplot as plt\n",
        "\n",
        "from utils import *"
      ],
      "metadata": {
        "id": "cca7iJm84hnw"
      },
      "execution_count": 2,
      "outputs": []
    },
    {
      "cell_type": "code",
      "source": [
        "# from google.colab import drive\n",
        "\n",
        "# drive.mount('/content/drive')"
      ],
      "metadata": {
        "id": "7nxLPavpj2jP"
      },
      "execution_count": 3,
      "outputs": []
    },
    {
      "cell_type": "markdown",
      "source": [
        "### Load the datasets"
      ],
      "metadata": {
        "id": "7nTBSKYh4RjC"
      }
    },
    {
      "cell_type": "code",
      "source": [
        "## Function to load the normal da\n",
        "\n",
        "\n",
        "# Load normal data\n",
        "normal_df = load_canbus_text_file(f\"{dataset_dir}/normal_run_data.txt\")\n",
        "#print(normal_df.head())\n",
        "#normal_df.to_csv(f\"{dataset_dir}/normal_run_data.csv\", index=False)\n",
        "\n",
        "# DoS data\n",
        "fuzz_df = pd.read_csv(f\"{dataset_dir}/Fuzzy_dataset.csv\", header=None, on_bad_lines='skip',)\n",
        "#fuzz_df.head()\n",
        "\n",
        "# Fuzzy Data\n",
        "DoS_df = pd.read_csv(f\"{dataset_dir}/DoS_dataset.csv\", header=None)\n",
        "#DoS_df\n",
        "#DoS_df.head()\n",
        "\n",
        "# RPM Data\n",
        "rpm_df = pd.read_csv(f\"{dataset_dir}/RPM_dataset.csv\", header=None)\n",
        "#print(rpm_df.head())\n",
        "\n",
        "# Gear dataset\n",
        "gear_df = pd.read_csv(f\"{dataset_dir}/gear_dataset.csv\", header=None, on_bad_lines='skip')\n",
        "#print(gear_df.head())\n",
        "\n"
      ],
      "metadata": {
        "colab": {
          "base_uri": "https://localhost:8080/"
        },
        "id": "r7l5oA3ecd6f",
        "outputId": "3f007c48-8491-4040-d4dd-a14ca22e4c6a"
      },
      "execution_count": 4,
      "outputs": [
        {
          "output_type": "stream",
          "name": "stderr",
          "text": [
            "/tmp/ipython-input-5149133.py:10: DtypeWarning: Columns (6,9,11) have mixed types. Specify dtype option on import or set low_memory=False.\n",
            "  fuzz_df = pd.read_csv(f\"{dataset_dir}/Fuzzy_dataset.csv\", header=None, on_bad_lines='skip',)\n",
            "/tmp/ipython-input-5149133.py:23: DtypeWarning: Columns (3,4,6,8) have mixed types. Specify dtype option on import or set low_memory=False.\n",
            "  gear_df = pd.read_csv(f\"{dataset_dir}/gear_dataset.csv\", header=None, on_bad_lines='skip')\n"
          ]
        }
      ]
    },
    {
      "cell_type": "code",
      "source": [
        "normal_df['ID'].nunique(), fuzz_df[1].nunique(), DoS_df[1].nunique(), rpm_df[1].nunique(), gear_df[1].nunique()"
      ],
      "metadata": {
        "colab": {
          "base_uri": "https://localhost:8080/"
        },
        "id": "HkVvphpzXH9V",
        "outputId": "5920b91c-8181-430e-9333-884332006a3a"
      },
      "execution_count": 5,
      "outputs": [
        {
          "output_type": "execute_result",
          "data": {
            "text/plain": [
              "(27, 2048, 27, 26, 26)"
            ]
          },
          "metadata": {},
          "execution_count": 5
        }
      ]
    },
    {
      "cell_type": "code",
      "source": [
        "(normal_df['ID'].value_counts())"
      ],
      "metadata": {
        "id": "xrByU49K46xc",
        "outputId": "fb499810-4633-4a09-9e8a-fca6683e74bd",
        "colab": {
          "base_uri": "https://localhost:8080/",
          "height": 962
        },
        "collapsed": true
      },
      "execution_count": 6,
      "outputs": [
        {
          "output_type": "execute_result",
          "data": {
            "text/plain": [
              "ID\n",
              "02c0    50689\n",
              "018f    50687\n",
              "0260    50687\n",
              "02a0    50687\n",
              "0316    50687\n",
              "0329    50686\n",
              "0545    50686\n",
              "0350    50661\n",
              "0131    50647\n",
              "0130    50647\n",
              "0002    50647\n",
              "0153    50647\n",
              "0140    50647\n",
              "0370    50641\n",
              "043f    50641\n",
              "0440    50641\n",
              "02b0    50606\n",
              "0430    25324\n",
              "04b1    25324\n",
              "01f1    25324\n",
              "04f0    25322\n",
              "05f0    10129\n",
              "00a1     5068\n",
              "00a0     5068\n",
              "0690     5064\n",
              "05a0      507\n",
              "05a2      507\n",
              "Name: count, dtype: int64"
            ],
            "text/html": [
              "<div>\n",
              "<style scoped>\n",
              "    .dataframe tbody tr th:only-of-type {\n",
              "        vertical-align: middle;\n",
              "    }\n",
              "\n",
              "    .dataframe tbody tr th {\n",
              "        vertical-align: top;\n",
              "    }\n",
              "\n",
              "    .dataframe thead th {\n",
              "        text-align: right;\n",
              "    }\n",
              "</style>\n",
              "<table border=\"1\" class=\"dataframe\">\n",
              "  <thead>\n",
              "    <tr style=\"text-align: right;\">\n",
              "      <th></th>\n",
              "      <th>count</th>\n",
              "    </tr>\n",
              "    <tr>\n",
              "      <th>ID</th>\n",
              "      <th></th>\n",
              "    </tr>\n",
              "  </thead>\n",
              "  <tbody>\n",
              "    <tr>\n",
              "      <th>02c0</th>\n",
              "      <td>50689</td>\n",
              "    </tr>\n",
              "    <tr>\n",
              "      <th>018f</th>\n",
              "      <td>50687</td>\n",
              "    </tr>\n",
              "    <tr>\n",
              "      <th>0260</th>\n",
              "      <td>50687</td>\n",
              "    </tr>\n",
              "    <tr>\n",
              "      <th>02a0</th>\n",
              "      <td>50687</td>\n",
              "    </tr>\n",
              "    <tr>\n",
              "      <th>0316</th>\n",
              "      <td>50687</td>\n",
              "    </tr>\n",
              "    <tr>\n",
              "      <th>0329</th>\n",
              "      <td>50686</td>\n",
              "    </tr>\n",
              "    <tr>\n",
              "      <th>0545</th>\n",
              "      <td>50686</td>\n",
              "    </tr>\n",
              "    <tr>\n",
              "      <th>0350</th>\n",
              "      <td>50661</td>\n",
              "    </tr>\n",
              "    <tr>\n",
              "      <th>0131</th>\n",
              "      <td>50647</td>\n",
              "    </tr>\n",
              "    <tr>\n",
              "      <th>0130</th>\n",
              "      <td>50647</td>\n",
              "    </tr>\n",
              "    <tr>\n",
              "      <th>0002</th>\n",
              "      <td>50647</td>\n",
              "    </tr>\n",
              "    <tr>\n",
              "      <th>0153</th>\n",
              "      <td>50647</td>\n",
              "    </tr>\n",
              "    <tr>\n",
              "      <th>0140</th>\n",
              "      <td>50647</td>\n",
              "    </tr>\n",
              "    <tr>\n",
              "      <th>0370</th>\n",
              "      <td>50641</td>\n",
              "    </tr>\n",
              "    <tr>\n",
              "      <th>043f</th>\n",
              "      <td>50641</td>\n",
              "    </tr>\n",
              "    <tr>\n",
              "      <th>0440</th>\n",
              "      <td>50641</td>\n",
              "    </tr>\n",
              "    <tr>\n",
              "      <th>02b0</th>\n",
              "      <td>50606</td>\n",
              "    </tr>\n",
              "    <tr>\n",
              "      <th>0430</th>\n",
              "      <td>25324</td>\n",
              "    </tr>\n",
              "    <tr>\n",
              "      <th>04b1</th>\n",
              "      <td>25324</td>\n",
              "    </tr>\n",
              "    <tr>\n",
              "      <th>01f1</th>\n",
              "      <td>25324</td>\n",
              "    </tr>\n",
              "    <tr>\n",
              "      <th>04f0</th>\n",
              "      <td>25322</td>\n",
              "    </tr>\n",
              "    <tr>\n",
              "      <th>05f0</th>\n",
              "      <td>10129</td>\n",
              "    </tr>\n",
              "    <tr>\n",
              "      <th>00a1</th>\n",
              "      <td>5068</td>\n",
              "    </tr>\n",
              "    <tr>\n",
              "      <th>00a0</th>\n",
              "      <td>5068</td>\n",
              "    </tr>\n",
              "    <tr>\n",
              "      <th>0690</th>\n",
              "      <td>5064</td>\n",
              "    </tr>\n",
              "    <tr>\n",
              "      <th>05a0</th>\n",
              "      <td>507</td>\n",
              "    </tr>\n",
              "    <tr>\n",
              "      <th>05a2</th>\n",
              "      <td>507</td>\n",
              "    </tr>\n",
              "  </tbody>\n",
              "</table>\n",
              "</div><br><label><b>dtype:</b> int64</label>"
            ]
          },
          "metadata": {},
          "execution_count": 6
        }
      ]
    },
    {
      "cell_type": "code",
      "source": [
        "gear_df[1].value_counts().transpose()#, #.nunique()#, rpm_df[1].nunique(), normal_df['ID'].nunique()"
      ],
      "metadata": {
        "colab": {
          "base_uri": "https://localhost:8080/",
          "height": 931
        },
        "id": "JzYxQkGJjR_w",
        "outputId": "e1c48f70-23dd-4aa6-9feb-4e36da7e09bf",
        "collapsed": true
      },
      "execution_count": 17,
      "outputs": [
        {
          "output_type": "execute_result",
          "data": {
            "text/plain": [
              "1\n",
              "043f    661388\n",
              "0316    141160\n",
              "018f    141110\n",
              "0002    139773\n",
              "0260    139658\n",
              "0153    139308\n",
              "02a0    138503\n",
              "0370    138224\n",
              "02c0    138060\n",
              "0350    137892\n",
              "0130    137509\n",
              "0329    136916\n",
              "0131    136229\n",
              "0140    135314\n",
              "0440    134763\n",
              "0545    133333\n",
              "0430     71700\n",
              "04b1     70513\n",
              "01f1     70009\n",
              "04f0     68419\n",
              "05f0     40165\n",
              "00a0     13912\n",
              "00a1     13785\n",
              "0690     13608\n",
              "05a0      1336\n",
              "05a2      1311\n",
              "Name: count, dtype: int64"
            ],
            "text/html": [
              "<div>\n",
              "<style scoped>\n",
              "    .dataframe tbody tr th:only-of-type {\n",
              "        vertical-align: middle;\n",
              "    }\n",
              "\n",
              "    .dataframe tbody tr th {\n",
              "        vertical-align: top;\n",
              "    }\n",
              "\n",
              "    .dataframe thead th {\n",
              "        text-align: right;\n",
              "    }\n",
              "</style>\n",
              "<table border=\"1\" class=\"dataframe\">\n",
              "  <thead>\n",
              "    <tr style=\"text-align: right;\">\n",
              "      <th></th>\n",
              "      <th>count</th>\n",
              "    </tr>\n",
              "    <tr>\n",
              "      <th>1</th>\n",
              "      <th></th>\n",
              "    </tr>\n",
              "  </thead>\n",
              "  <tbody>\n",
              "    <tr>\n",
              "      <th>043f</th>\n",
              "      <td>661388</td>\n",
              "    </tr>\n",
              "    <tr>\n",
              "      <th>0316</th>\n",
              "      <td>141160</td>\n",
              "    </tr>\n",
              "    <tr>\n",
              "      <th>018f</th>\n",
              "      <td>141110</td>\n",
              "    </tr>\n",
              "    <tr>\n",
              "      <th>0002</th>\n",
              "      <td>139773</td>\n",
              "    </tr>\n",
              "    <tr>\n",
              "      <th>0260</th>\n",
              "      <td>139658</td>\n",
              "    </tr>\n",
              "    <tr>\n",
              "      <th>0153</th>\n",
              "      <td>139308</td>\n",
              "    </tr>\n",
              "    <tr>\n",
              "      <th>02a0</th>\n",
              "      <td>138503</td>\n",
              "    </tr>\n",
              "    <tr>\n",
              "      <th>0370</th>\n",
              "      <td>138224</td>\n",
              "    </tr>\n",
              "    <tr>\n",
              "      <th>02c0</th>\n",
              "      <td>138060</td>\n",
              "    </tr>\n",
              "    <tr>\n",
              "      <th>0350</th>\n",
              "      <td>137892</td>\n",
              "    </tr>\n",
              "    <tr>\n",
              "      <th>0130</th>\n",
              "      <td>137509</td>\n",
              "    </tr>\n",
              "    <tr>\n",
              "      <th>0329</th>\n",
              "      <td>136916</td>\n",
              "    </tr>\n",
              "    <tr>\n",
              "      <th>0131</th>\n",
              "      <td>136229</td>\n",
              "    </tr>\n",
              "    <tr>\n",
              "      <th>0140</th>\n",
              "      <td>135314</td>\n",
              "    </tr>\n",
              "    <tr>\n",
              "      <th>0440</th>\n",
              "      <td>134763</td>\n",
              "    </tr>\n",
              "    <tr>\n",
              "      <th>0545</th>\n",
              "      <td>133333</td>\n",
              "    </tr>\n",
              "    <tr>\n",
              "      <th>0430</th>\n",
              "      <td>71700</td>\n",
              "    </tr>\n",
              "    <tr>\n",
              "      <th>04b1</th>\n",
              "      <td>70513</td>\n",
              "    </tr>\n",
              "    <tr>\n",
              "      <th>01f1</th>\n",
              "      <td>70009</td>\n",
              "    </tr>\n",
              "    <tr>\n",
              "      <th>04f0</th>\n",
              "      <td>68419</td>\n",
              "    </tr>\n",
              "    <tr>\n",
              "      <th>05f0</th>\n",
              "      <td>40165</td>\n",
              "    </tr>\n",
              "    <tr>\n",
              "      <th>00a0</th>\n",
              "      <td>13912</td>\n",
              "    </tr>\n",
              "    <tr>\n",
              "      <th>00a1</th>\n",
              "      <td>13785</td>\n",
              "    </tr>\n",
              "    <tr>\n",
              "      <th>0690</th>\n",
              "      <td>13608</td>\n",
              "    </tr>\n",
              "    <tr>\n",
              "      <th>05a0</th>\n",
              "      <td>1336</td>\n",
              "    </tr>\n",
              "    <tr>\n",
              "      <th>05a2</th>\n",
              "      <td>1311</td>\n",
              "    </tr>\n",
              "  </tbody>\n",
              "</table>\n",
              "</div><br><label><b>dtype:</b> int64</label>"
            ]
          },
          "metadata": {},
          "execution_count": 17
        }
      ]
    },
    {
      "cell_type": "code",
      "source": [
        "fuzz_df[1].unique(), DoS_df[1].unique(), rpm_df[1].unique(),normal_df['ID'].unique()"
      ],
      "metadata": {
        "colab": {
          "base_uri": "https://localhost:8080/"
        },
        "id": "7T4Ccjm0r6E4",
        "outputId": "23a1fe06-69f2-419d-b36c-efae58b6fd3e",
        "collapsed": true
      },
      "execution_count": 8,
      "outputs": [
        {
          "output_type": "execute_result",
          "data": {
            "text/plain": [
              "(array(['0545', '02b0', '0002', ..., '0524', '00d6', '0038'], dtype=object),\n",
              " array(['0316', '018f', '0260', '02a0', '0329', '0545', '0002', '0153',\n",
              "        '02c0', '0130', '0131', '0140', '0350', '043f', '0370', '0440',\n",
              "        '04f0', '0430', '04b1', '01f1', '05f0', '00a0', '00a1', '0690',\n",
              "        '05a0', '05a2', '0000'], dtype=object),\n",
              " array(['0316', '018f', '0260', '02a0', '0329', '0545', '02c0', '0002',\n",
              "        '0153', '0130', '0131', '0140', '043f', '0370', '0440', '0350',\n",
              "        '04f0', '0430', '04b1', '01f1', '0690', '05f0', '00a0', '00a1',\n",
              "        '05a0', '05a2'], dtype=object),\n",
              " array(['0350', '02c0', '0430', '04b1', '01f1', '0153', '0002', '018f',\n",
              "        '0130', '0131', '0140', '0260', '02a0', '0316', '0329', '0545',\n",
              "        '02b0', '043f', '0370', '0440', '04f0', '05f0', '05a0', '05a2',\n",
              "        '0690', '00a0', '00a1'], dtype=object))"
            ]
          },
          "metadata": {},
          "execution_count": 8
        }
      ]
    },
    {
      "cell_type": "code",
      "source": [
        "## Sample the dodgy data sets\n",
        "fuzz_df1 = fuzz_df.sample(n = 148331, random_state=42)\n",
        "DoS_df1 = DoS_df.sample(n = 148331, random_state=42)\n",
        "rpm_df1 = rpm_df.sample(n = 148331, random_state=42)\n",
        "gear_df1 = gear_df.sample(n = 148331, random_state=42)\n",
        "\n",
        "DoS_injections = DoS_df1[1] == '0000'"
      ],
      "metadata": {
        "id": "JASwNkNTg0V7"
      },
      "execution_count": 9,
      "outputs": []
    },
    {
      "cell_type": "code",
      "source": [
        "#fuzz_df[0].max(), fuzz_df[0].min(), normal_df['Timestamp'].max(), normal_df['Timestamp'].min("
      ],
      "metadata": {
        "colab": {
          "base_uri": "https://localhost:8080/",
          "height": 424
        },
        "id": "tp-qFRKVCYop",
        "outputId": "de2b5631-2bee-4f23-c2d2-275e54b84e07"
      },
      "execution_count": 29,
      "outputs": [
        {
          "output_type": "execute_result",
          "data": {
            "text/plain": [
              "                   0     1   2   3   4   5    6   7   8                  9   \\\n",
              "1707766  1.478201e+09  018f   8  fe  59  00   00  00  41                 00   \n",
              "89510    1.478196e+09  02b0   5  ff  7f  00  5.0  85   R  1478196153.498813   \n",
              "1144898  1.478198e+09  0370   8  00  20  00   00  00  00                 00   \n",
              "220615   1.478197e+09  02a0   8  24  00  9a   1d  97  02                 bd   \n",
              "1109725  1.478198e+09  0545   8  d8  00  00   88  00  00                 00   \n",
              "...               ...   ...  ..  ..  ..  ..  ...  ..  ..                ...   \n",
              "1544436  1.478201e+09  0130   8  03  80  00   ff  02  80                 06   \n",
              "812376   1.478198e+09  018f   8  fe  5b  00   00  00  3c                 00   \n",
              "66706    1.478196e+09  02b0   5  00  00  00  7.0  07   R  1478195804.935391   \n",
              "1413112  1.478201e+09  0350   8  05  20  44   68  74  00                 00   \n",
              "2003136  1.478201e+09  043f   8  00  40  60   ff  7e  d3                 08   \n",
              "\n",
              "           10   11  \n",
              "1707766    00    R  \n",
              "89510    056c  8.0  \n",
              "1144898    00    R  \n",
              "220615     00    R  \n",
              "1109725    00    R  \n",
              "...       ...  ...  \n",
              "1544436    6f    R  \n",
              "812376     00    R  \n",
              "66706    0370  8.0  \n",
              "1413112    7d    R  \n",
              "2003136    00    R  \n",
              "\n",
              "[148331 rows x 12 columns]"
            ],
            "text/html": [
              "\n",
              "  <div id=\"df-601a16a2-ef12-427a-8e23-67e58d24eacf\" class=\"colab-df-container\">\n",
              "    <div>\n",
              "<style scoped>\n",
              "    .dataframe tbody tr th:only-of-type {\n",
              "        vertical-align: middle;\n",
              "    }\n",
              "\n",
              "    .dataframe tbody tr th {\n",
              "        vertical-align: top;\n",
              "    }\n",
              "\n",
              "    .dataframe thead th {\n",
              "        text-align: right;\n",
              "    }\n",
              "</style>\n",
              "<table border=\"1\" class=\"dataframe\">\n",
              "  <thead>\n",
              "    <tr style=\"text-align: right;\">\n",
              "      <th></th>\n",
              "      <th>0</th>\n",
              "      <th>1</th>\n",
              "      <th>2</th>\n",
              "      <th>3</th>\n",
              "      <th>4</th>\n",
              "      <th>5</th>\n",
              "      <th>6</th>\n",
              "      <th>7</th>\n",
              "      <th>8</th>\n",
              "      <th>9</th>\n",
              "      <th>10</th>\n",
              "      <th>11</th>\n",
              "    </tr>\n",
              "  </thead>\n",
              "  <tbody>\n",
              "    <tr>\n",
              "      <th>1707766</th>\n",
              "      <td>1.478201e+09</td>\n",
              "      <td>018f</td>\n",
              "      <td>8</td>\n",
              "      <td>fe</td>\n",
              "      <td>59</td>\n",
              "      <td>00</td>\n",
              "      <td>00</td>\n",
              "      <td>00</td>\n",
              "      <td>41</td>\n",
              "      <td>00</td>\n",
              "      <td>00</td>\n",
              "      <td>R</td>\n",
              "    </tr>\n",
              "    <tr>\n",
              "      <th>89510</th>\n",
              "      <td>1.478196e+09</td>\n",
              "      <td>02b0</td>\n",
              "      <td>5</td>\n",
              "      <td>ff</td>\n",
              "      <td>7f</td>\n",
              "      <td>00</td>\n",
              "      <td>5.0</td>\n",
              "      <td>85</td>\n",
              "      <td>R</td>\n",
              "      <td>1478196153.498813</td>\n",
              "      <td>056c</td>\n",
              "      <td>8.0</td>\n",
              "    </tr>\n",
              "    <tr>\n",
              "      <th>1144898</th>\n",
              "      <td>1.478198e+09</td>\n",
              "      <td>0370</td>\n",
              "      <td>8</td>\n",
              "      <td>00</td>\n",
              "      <td>20</td>\n",
              "      <td>00</td>\n",
              "      <td>00</td>\n",
              "      <td>00</td>\n",
              "      <td>00</td>\n",
              "      <td>00</td>\n",
              "      <td>00</td>\n",
              "      <td>R</td>\n",
              "    </tr>\n",
              "    <tr>\n",
              "      <th>220615</th>\n",
              "      <td>1.478197e+09</td>\n",
              "      <td>02a0</td>\n",
              "      <td>8</td>\n",
              "      <td>24</td>\n",
              "      <td>00</td>\n",
              "      <td>9a</td>\n",
              "      <td>1d</td>\n",
              "      <td>97</td>\n",
              "      <td>02</td>\n",
              "      <td>bd</td>\n",
              "      <td>00</td>\n",
              "      <td>R</td>\n",
              "    </tr>\n",
              "    <tr>\n",
              "      <th>1109725</th>\n",
              "      <td>1.478198e+09</td>\n",
              "      <td>0545</td>\n",
              "      <td>8</td>\n",
              "      <td>d8</td>\n",
              "      <td>00</td>\n",
              "      <td>00</td>\n",
              "      <td>88</td>\n",
              "      <td>00</td>\n",
              "      <td>00</td>\n",
              "      <td>00</td>\n",
              "      <td>00</td>\n",
              "      <td>R</td>\n",
              "    </tr>\n",
              "    <tr>\n",
              "      <th>...</th>\n",
              "      <td>...</td>\n",
              "      <td>...</td>\n",
              "      <td>...</td>\n",
              "      <td>...</td>\n",
              "      <td>...</td>\n",
              "      <td>...</td>\n",
              "      <td>...</td>\n",
              "      <td>...</td>\n",
              "      <td>...</td>\n",
              "      <td>...</td>\n",
              "      <td>...</td>\n",
              "      <td>...</td>\n",
              "    </tr>\n",
              "    <tr>\n",
              "      <th>1544436</th>\n",
              "      <td>1.478201e+09</td>\n",
              "      <td>0130</td>\n",
              "      <td>8</td>\n",
              "      <td>03</td>\n",
              "      <td>80</td>\n",
              "      <td>00</td>\n",
              "      <td>ff</td>\n",
              "      <td>02</td>\n",
              "      <td>80</td>\n",
              "      <td>06</td>\n",
              "      <td>6f</td>\n",
              "      <td>R</td>\n",
              "    </tr>\n",
              "    <tr>\n",
              "      <th>812376</th>\n",
              "      <td>1.478198e+09</td>\n",
              "      <td>018f</td>\n",
              "      <td>8</td>\n",
              "      <td>fe</td>\n",
              "      <td>5b</td>\n",
              "      <td>00</td>\n",
              "      <td>00</td>\n",
              "      <td>00</td>\n",
              "      <td>3c</td>\n",
              "      <td>00</td>\n",
              "      <td>00</td>\n",
              "      <td>R</td>\n",
              "    </tr>\n",
              "    <tr>\n",
              "      <th>66706</th>\n",
              "      <td>1.478196e+09</td>\n",
              "      <td>02b0</td>\n",
              "      <td>5</td>\n",
              "      <td>00</td>\n",
              "      <td>00</td>\n",
              "      <td>00</td>\n",
              "      <td>7.0</td>\n",
              "      <td>07</td>\n",
              "      <td>R</td>\n",
              "      <td>1478195804.935391</td>\n",
              "      <td>0370</td>\n",
              "      <td>8.0</td>\n",
              "    </tr>\n",
              "    <tr>\n",
              "      <th>1413112</th>\n",
              "      <td>1.478201e+09</td>\n",
              "      <td>0350</td>\n",
              "      <td>8</td>\n",
              "      <td>05</td>\n",
              "      <td>20</td>\n",
              "      <td>44</td>\n",
              "      <td>68</td>\n",
              "      <td>74</td>\n",
              "      <td>00</td>\n",
              "      <td>00</td>\n",
              "      <td>7d</td>\n",
              "      <td>R</td>\n",
              "    </tr>\n",
              "    <tr>\n",
              "      <th>2003136</th>\n",
              "      <td>1.478201e+09</td>\n",
              "      <td>043f</td>\n",
              "      <td>8</td>\n",
              "      <td>00</td>\n",
              "      <td>40</td>\n",
              "      <td>60</td>\n",
              "      <td>ff</td>\n",
              "      <td>7e</td>\n",
              "      <td>d3</td>\n",
              "      <td>08</td>\n",
              "      <td>00</td>\n",
              "      <td>R</td>\n",
              "    </tr>\n",
              "  </tbody>\n",
              "</table>\n",
              "<p>148331 rows × 12 columns</p>\n",
              "</div>\n",
              "    <div class=\"colab-df-buttons\">\n",
              "\n",
              "  <div class=\"colab-df-container\">\n",
              "    <button class=\"colab-df-convert\" onclick=\"convertToInteractive('df-601a16a2-ef12-427a-8e23-67e58d24eacf')\"\n",
              "            title=\"Convert this dataframe to an interactive table.\"\n",
              "            style=\"display:none;\">\n",
              "\n",
              "  <svg xmlns=\"http://www.w3.org/2000/svg\" height=\"24px\" viewBox=\"0 -960 960 960\">\n",
              "    <path d=\"M120-120v-720h720v720H120Zm60-500h600v-160H180v160Zm220 220h160v-160H400v160Zm0 220h160v-160H400v160ZM180-400h160v-160H180v160Zm440 0h160v-160H620v160ZM180-180h160v-160H180v160Zm440 0h160v-160H620v160Z\"/>\n",
              "  </svg>\n",
              "    </button>\n",
              "\n",
              "  <style>\n",
              "    .colab-df-container {\n",
              "      display:flex;\n",
              "      gap: 12px;\n",
              "    }\n",
              "\n",
              "    .colab-df-convert {\n",
              "      background-color: #E8F0FE;\n",
              "      border: none;\n",
              "      border-radius: 50%;\n",
              "      cursor: pointer;\n",
              "      display: none;\n",
              "      fill: #1967D2;\n",
              "      height: 32px;\n",
              "      padding: 0 0 0 0;\n",
              "      width: 32px;\n",
              "    }\n",
              "\n",
              "    .colab-df-convert:hover {\n",
              "      background-color: #E2EBFA;\n",
              "      box-shadow: 0px 1px 2px rgba(60, 64, 67, 0.3), 0px 1px 3px 1px rgba(60, 64, 67, 0.15);\n",
              "      fill: #174EA6;\n",
              "    }\n",
              "\n",
              "    .colab-df-buttons div {\n",
              "      margin-bottom: 4px;\n",
              "    }\n",
              "\n",
              "    [theme=dark] .colab-df-convert {\n",
              "      background-color: #3B4455;\n",
              "      fill: #D2E3FC;\n",
              "    }\n",
              "\n",
              "    [theme=dark] .colab-df-convert:hover {\n",
              "      background-color: #434B5C;\n",
              "      box-shadow: 0px 1px 3px 1px rgba(0, 0, 0, 0.15);\n",
              "      filter: drop-shadow(0px 1px 2px rgba(0, 0, 0, 0.3));\n",
              "      fill: #FFFFFF;\n",
              "    }\n",
              "  </style>\n",
              "\n",
              "    <script>\n",
              "      const buttonEl =\n",
              "        document.querySelector('#df-601a16a2-ef12-427a-8e23-67e58d24eacf button.colab-df-convert');\n",
              "      buttonEl.style.display =\n",
              "        google.colab.kernel.accessAllowed ? 'block' : 'none';\n",
              "\n",
              "      async function convertToInteractive(key) {\n",
              "        const element = document.querySelector('#df-601a16a2-ef12-427a-8e23-67e58d24eacf');\n",
              "        const dataTable =\n",
              "          await google.colab.kernel.invokeFunction('convertToInteractive',\n",
              "                                                    [key], {});\n",
              "        if (!dataTable) return;\n",
              "\n",
              "        const docLinkHtml = 'Like what you see? Visit the ' +\n",
              "          '<a target=\"_blank\" href=https://colab.research.google.com/notebooks/data_table.ipynb>data table notebook</a>'\n",
              "          + ' to learn more about interactive tables.';\n",
              "        element.innerHTML = '';\n",
              "        dataTable['output_type'] = 'display_data';\n",
              "        await google.colab.output.renderOutput(dataTable, element);\n",
              "        const docLink = document.createElement('div');\n",
              "        docLink.innerHTML = docLinkHtml;\n",
              "        element.appendChild(docLink);\n",
              "      }\n",
              "    </script>\n",
              "  </div>\n",
              "\n",
              "\n",
              "    <div id=\"df-890dc039-71ed-4baa-8d21-8d91d94723cb\">\n",
              "      <button class=\"colab-df-quickchart\" onclick=\"quickchart('df-890dc039-71ed-4baa-8d21-8d91d94723cb')\"\n",
              "                title=\"Suggest charts\"\n",
              "                style=\"display:none;\">\n",
              "\n",
              "<svg xmlns=\"http://www.w3.org/2000/svg\" height=\"24px\"viewBox=\"0 0 24 24\"\n",
              "     width=\"24px\">\n",
              "    <g>\n",
              "        <path d=\"M19 3H5c-1.1 0-2 .9-2 2v14c0 1.1.9 2 2 2h14c1.1 0 2-.9 2-2V5c0-1.1-.9-2-2-2zM9 17H7v-7h2v7zm4 0h-2V7h2v10zm4 0h-2v-4h2v4z\"/>\n",
              "    </g>\n",
              "</svg>\n",
              "      </button>\n",
              "\n",
              "<style>\n",
              "  .colab-df-quickchart {\n",
              "      --bg-color: #E8F0FE;\n",
              "      --fill-color: #1967D2;\n",
              "      --hover-bg-color: #E2EBFA;\n",
              "      --hover-fill-color: #174EA6;\n",
              "      --disabled-fill-color: #AAA;\n",
              "      --disabled-bg-color: #DDD;\n",
              "  }\n",
              "\n",
              "  [theme=dark] .colab-df-quickchart {\n",
              "      --bg-color: #3B4455;\n",
              "      --fill-color: #D2E3FC;\n",
              "      --hover-bg-color: #434B5C;\n",
              "      --hover-fill-color: #FFFFFF;\n",
              "      --disabled-bg-color: #3B4455;\n",
              "      --disabled-fill-color: #666;\n",
              "  }\n",
              "\n",
              "  .colab-df-quickchart {\n",
              "    background-color: var(--bg-color);\n",
              "    border: none;\n",
              "    border-radius: 50%;\n",
              "    cursor: pointer;\n",
              "    display: none;\n",
              "    fill: var(--fill-color);\n",
              "    height: 32px;\n",
              "    padding: 0;\n",
              "    width: 32px;\n",
              "  }\n",
              "\n",
              "  .colab-df-quickchart:hover {\n",
              "    background-color: var(--hover-bg-color);\n",
              "    box-shadow: 0 1px 2px rgba(60, 64, 67, 0.3), 0 1px 3px 1px rgba(60, 64, 67, 0.15);\n",
              "    fill: var(--button-hover-fill-color);\n",
              "  }\n",
              "\n",
              "  .colab-df-quickchart-complete:disabled,\n",
              "  .colab-df-quickchart-complete:disabled:hover {\n",
              "    background-color: var(--disabled-bg-color);\n",
              "    fill: var(--disabled-fill-color);\n",
              "    box-shadow: none;\n",
              "  }\n",
              "\n",
              "  .colab-df-spinner {\n",
              "    border: 2px solid var(--fill-color);\n",
              "    border-color: transparent;\n",
              "    border-bottom-color: var(--fill-color);\n",
              "    animation:\n",
              "      spin 1s steps(1) infinite;\n",
              "  }\n",
              "\n",
              "  @keyframes spin {\n",
              "    0% {\n",
              "      border-color: transparent;\n",
              "      border-bottom-color: var(--fill-color);\n",
              "      border-left-color: var(--fill-color);\n",
              "    }\n",
              "    20% {\n",
              "      border-color: transparent;\n",
              "      border-left-color: var(--fill-color);\n",
              "      border-top-color: var(--fill-color);\n",
              "    }\n",
              "    30% {\n",
              "      border-color: transparent;\n",
              "      border-left-color: var(--fill-color);\n",
              "      border-top-color: var(--fill-color);\n",
              "      border-right-color: var(--fill-color);\n",
              "    }\n",
              "    40% {\n",
              "      border-color: transparent;\n",
              "      border-right-color: var(--fill-color);\n",
              "      border-top-color: var(--fill-color);\n",
              "    }\n",
              "    60% {\n",
              "      border-color: transparent;\n",
              "      border-right-color: var(--fill-color);\n",
              "    }\n",
              "    80% {\n",
              "      border-color: transparent;\n",
              "      border-right-color: var(--fill-color);\n",
              "      border-bottom-color: var(--fill-color);\n",
              "    }\n",
              "    90% {\n",
              "      border-color: transparent;\n",
              "      border-bottom-color: var(--fill-color);\n",
              "    }\n",
              "  }\n",
              "</style>\n",
              "\n",
              "      <script>\n",
              "        async function quickchart(key) {\n",
              "          const quickchartButtonEl =\n",
              "            document.querySelector('#' + key + ' button');\n",
              "          quickchartButtonEl.disabled = true;  // To prevent multiple clicks.\n",
              "          quickchartButtonEl.classList.add('colab-df-spinner');\n",
              "          try {\n",
              "            const charts = await google.colab.kernel.invokeFunction(\n",
              "                'suggestCharts', [key], {});\n",
              "          } catch (error) {\n",
              "            console.error('Error during call to suggestCharts:', error);\n",
              "          }\n",
              "          quickchartButtonEl.classList.remove('colab-df-spinner');\n",
              "          quickchartButtonEl.classList.add('colab-df-quickchart-complete');\n",
              "        }\n",
              "        (() => {\n",
              "          let quickchartButtonEl =\n",
              "            document.querySelector('#df-890dc039-71ed-4baa-8d21-8d91d94723cb button');\n",
              "          quickchartButtonEl.style.display =\n",
              "            google.colab.kernel.accessAllowed ? 'block' : 'none';\n",
              "        })();\n",
              "      </script>\n",
              "    </div>\n",
              "\n",
              "  <div id=\"id_7b9362b4-0fc6-49d3-82e3-6f16254bbb40\">\n",
              "    <style>\n",
              "      .colab-df-generate {\n",
              "        background-color: #E8F0FE;\n",
              "        border: none;\n",
              "        border-radius: 50%;\n",
              "        cursor: pointer;\n",
              "        display: none;\n",
              "        fill: #1967D2;\n",
              "        height: 32px;\n",
              "        padding: 0 0 0 0;\n",
              "        width: 32px;\n",
              "      }\n",
              "\n",
              "      .colab-df-generate:hover {\n",
              "        background-color: #E2EBFA;\n",
              "        box-shadow: 0px 1px 2px rgba(60, 64, 67, 0.3), 0px 1px 3px 1px rgba(60, 64, 67, 0.15);\n",
              "        fill: #174EA6;\n",
              "      }\n",
              "\n",
              "      [theme=dark] .colab-df-generate {\n",
              "        background-color: #3B4455;\n",
              "        fill: #D2E3FC;\n",
              "      }\n",
              "\n",
              "      [theme=dark] .colab-df-generate:hover {\n",
              "        background-color: #434B5C;\n",
              "        box-shadow: 0px 1px 3px 1px rgba(0, 0, 0, 0.15);\n",
              "        filter: drop-shadow(0px 1px 2px rgba(0, 0, 0, 0.3));\n",
              "        fill: #FFFFFF;\n",
              "      }\n",
              "    </style>\n",
              "    <button class=\"colab-df-generate\" onclick=\"generateWithVariable('fuzz_df1')\"\n",
              "            title=\"Generate code using this dataframe.\"\n",
              "            style=\"display:none;\">\n",
              "\n",
              "  <svg xmlns=\"http://www.w3.org/2000/svg\" height=\"24px\"viewBox=\"0 0 24 24\"\n",
              "       width=\"24px\">\n",
              "    <path d=\"M7,19H8.4L18.45,9,17,7.55,7,17.6ZM5,21V16.75L18.45,3.32a2,2,0,0,1,2.83,0l1.4,1.43a1.91,1.91,0,0,1,.58,1.4,1.91,1.91,0,0,1-.58,1.4L9.25,21ZM18.45,9,17,7.55Zm-12,3A5.31,5.31,0,0,0,4.9,8.1,5.31,5.31,0,0,0,1,6.5,5.31,5.31,0,0,0,4.9,4.9,5.31,5.31,0,0,0,6.5,1,5.31,5.31,0,0,0,8.1,4.9,5.31,5.31,0,0,0,12,6.5,5.46,5.46,0,0,0,6.5,12Z\"/>\n",
              "  </svg>\n",
              "    </button>\n",
              "    <script>\n",
              "      (() => {\n",
              "      const buttonEl =\n",
              "        document.querySelector('#id_7b9362b4-0fc6-49d3-82e3-6f16254bbb40 button.colab-df-generate');\n",
              "      buttonEl.style.display =\n",
              "        google.colab.kernel.accessAllowed ? 'block' : 'none';\n",
              "\n",
              "      buttonEl.onclick = () => {\n",
              "        google.colab.notebook.generateWithVariable('fuzz_df1');\n",
              "      }\n",
              "      })();\n",
              "    </script>\n",
              "  </div>\n",
              "\n",
              "    </div>\n",
              "  </div>\n"
            ],
            "application/vnd.google.colaboratory.intrinsic+json": {
              "type": "dataframe",
              "variable_name": "fuzz_df1"
            }
          },
          "metadata": {},
          "execution_count": 29
        }
      ]
    },
    {
      "cell_type": "code",
      "source": [
        "DoS_injections"
      ],
      "metadata": {
        "colab": {
          "base_uri": "https://localhost:8080/",
          "height": 459
        },
        "id": "alo9oMp8SHZg",
        "outputId": "f7fb39e5-f506-4882-83cf-d6e1916266fc"
      },
      "execution_count": 10,
      "outputs": [
        {
          "output_type": "execute_result",
          "data": {
            "text/plain": [
              "2771604    False\n",
              "2858691    False\n",
              "2578057    False\n",
              "2269155    False\n",
              "2965992    False\n",
              "           ...  \n",
              "3060968    False\n",
              "129684      True\n",
              "1435596     True\n",
              "3527892    False\n",
              "161028     False\n",
              "Name: 1, Length: 148331, dtype: bool"
            ],
            "text/html": [
              "<div>\n",
              "<style scoped>\n",
              "    .dataframe tbody tr th:only-of-type {\n",
              "        vertical-align: middle;\n",
              "    }\n",
              "\n",
              "    .dataframe tbody tr th {\n",
              "        vertical-align: top;\n",
              "    }\n",
              "\n",
              "    .dataframe thead th {\n",
              "        text-align: right;\n",
              "    }\n",
              "</style>\n",
              "<table border=\"1\" class=\"dataframe\">\n",
              "  <thead>\n",
              "    <tr style=\"text-align: right;\">\n",
              "      <th></th>\n",
              "      <th>1</th>\n",
              "    </tr>\n",
              "  </thead>\n",
              "  <tbody>\n",
              "    <tr>\n",
              "      <th>2771604</th>\n",
              "      <td>False</td>\n",
              "    </tr>\n",
              "    <tr>\n",
              "      <th>2858691</th>\n",
              "      <td>False</td>\n",
              "    </tr>\n",
              "    <tr>\n",
              "      <th>2578057</th>\n",
              "      <td>False</td>\n",
              "    </tr>\n",
              "    <tr>\n",
              "      <th>2269155</th>\n",
              "      <td>False</td>\n",
              "    </tr>\n",
              "    <tr>\n",
              "      <th>2965992</th>\n",
              "      <td>False</td>\n",
              "    </tr>\n",
              "    <tr>\n",
              "      <th>...</th>\n",
              "      <td>...</td>\n",
              "    </tr>\n",
              "    <tr>\n",
              "      <th>3060968</th>\n",
              "      <td>False</td>\n",
              "    </tr>\n",
              "    <tr>\n",
              "      <th>129684</th>\n",
              "      <td>True</td>\n",
              "    </tr>\n",
              "    <tr>\n",
              "      <th>1435596</th>\n",
              "      <td>True</td>\n",
              "    </tr>\n",
              "    <tr>\n",
              "      <th>3527892</th>\n",
              "      <td>False</td>\n",
              "    </tr>\n",
              "    <tr>\n",
              "      <th>161028</th>\n",
              "      <td>False</td>\n",
              "    </tr>\n",
              "  </tbody>\n",
              "</table>\n",
              "<p>148331 rows × 1 columns</p>\n",
              "</div><br><label><b>dtype:</b> bool</label>"
            ]
          },
          "metadata": {},
          "execution_count": 10
        }
      ]
    },
    {
      "cell_type": "code",
      "source": [
        "from datetime import time\n",
        "fuzz_time = fuzz_df.iloc[:,0].diff().dropna()\n",
        "fuzz_time = pd.DataFrame({'TS':fuzz_time, 'Label':'Fuzzy'})\n",
        "DoS_time = DoS_df.iloc[:,0].diff().dropna()\n",
        "DoS_time = pd.DataFrame({'TS':DoS_time, 'Label':'DoS'})\n",
        "normal_time = normal_df.iloc[:,0].astype('float').diff().dropna()\n",
        "normal_time = pd.DataFrame({'TS':normal_time, 'Label':'Normal'})\n",
        "RPM_time = rpm_df.iloc[:,0].diff().dropna()\n",
        "RPM_time = pd.DataFrame({'TS':RPM_time, 'Label':'RPM'})\n",
        "\n",
        "time_stamp = pd.concat([normal_time, DoS_time, RPM_time, fuzz_time], axis=0)\n",
        "time_stamp = time_stamp[time_stamp['TS'] < 0.05]"
      ],
      "metadata": {
        "id": "1fPsSxJAoLRd"
      },
      "execution_count": 11,
      "outputs": []
    },
    {
      "cell_type": "code",
      "source": [
        "#len(fuzz_df)/(fuzz_df.iloc[:,0].max() - fuzz_df.iloc[:,0].min())\n",
        "#len(rpm_df)/(rpm_df.iloc[:,0].max() - rpm_df.iloc[:,0].min())\n",
        "#len(normal_df)/(normal_df.iloc[:,0].astype('float').max() - normal_df.iloc[:,0].astype('float').min())\n",
        "#len(DoS_df)/(DoS_df.iloc[:,0].max() - DoS_df.iloc[:,0].min())\n",
        "\n",
        "(DoS_df.iloc[:,0].max() - DoS_df.iloc[:,0].min())"
      ],
      "metadata": {
        "colab": {
          "base_uri": "https://localhost:8080/"
        },
        "id": "rGrtSwROuBC5",
        "outputId": "8ede8f46-39b0-4c86-8bc7-caf838ea3a8e"
      },
      "execution_count": 16,
      "outputs": [
        {
          "output_type": "execute_result",
          "data": {
            "text/plain": [
              "2832.6695170402527"
            ]
          },
          "metadata": {},
          "execution_count": 16
        }
      ]
    },
    {
      "cell_type": "code",
      "source": [
        "\n",
        "# #plt.figure(figsize=(10, 6))\n",
        "# plt.figure(figsize=(6, 4))\n",
        "# #sns.histplot( x='Error', data=x3, hue='Label')\n",
        "# sns.boxplot( y='TS', data=time_stamp, x='Label')\n",
        "# plt.title('Time Between CAN-BUS Signals')\n",
        "# plt.ylabel('Time between Signals (S)')\n",
        "# plt.xlabel('Data set')\n",
        "# plt.grid(True)\n",
        "# plt.tight_layout()\n",
        "# plt.ylim(-0.0001,0.001)\n",
        "# plt.show()"
      ],
      "metadata": {
        "colab": {
          "base_uri": "https://localhost:8080/",
          "height": 787
        },
        "outputId": "d2eea2d3-d0c4-428f-f66c-3fa91882fc9a",
        "id": "9r4Hk3Lnu-EK"
      },
      "execution_count": 13,
      "outputs": [
        {
          "output_type": "error",
          "ename": "KeyboardInterrupt",
          "evalue": "",
          "traceback": [
            "\u001b[0;31m---------------------------------------------------------------------------\u001b[0m",
            "\u001b[0;31mKeyboardInterrupt\u001b[0m                         Traceback (most recent call last)",
            "\u001b[0;32m/tmp/ipython-input-2745987984.py\u001b[0m in \u001b[0;36m<cell line: 0>\u001b[0;34m()\u001b[0m\n\u001b[1;32m      2\u001b[0m \u001b[0mplt\u001b[0m\u001b[0;34m.\u001b[0m\u001b[0mfigure\u001b[0m\u001b[0;34m(\u001b[0m\u001b[0mfigsize\u001b[0m\u001b[0;34m=\u001b[0m\u001b[0;34m(\u001b[0m\u001b[0;36m6\u001b[0m\u001b[0;34m,\u001b[0m \u001b[0;36m4\u001b[0m\u001b[0;34m)\u001b[0m\u001b[0;34m)\u001b[0m\u001b[0;34m\u001b[0m\u001b[0;34m\u001b[0m\u001b[0m\n\u001b[1;32m      3\u001b[0m \u001b[0;31m#sns.histplot( x='Error', data=x3, hue='Label')\u001b[0m\u001b[0;34m\u001b[0m\u001b[0;34m\u001b[0m\u001b[0m\n\u001b[0;32m----> 4\u001b[0;31m \u001b[0msns\u001b[0m\u001b[0;34m.\u001b[0m\u001b[0mboxplot\u001b[0m\u001b[0;34m(\u001b[0m \u001b[0my\u001b[0m\u001b[0;34m=\u001b[0m\u001b[0;34m'TS'\u001b[0m\u001b[0;34m,\u001b[0m \u001b[0mdata\u001b[0m\u001b[0;34m=\u001b[0m\u001b[0mtime_stamp\u001b[0m\u001b[0;34m,\u001b[0m \u001b[0mx\u001b[0m\u001b[0;34m=\u001b[0m\u001b[0;34m'Label'\u001b[0m\u001b[0;34m)\u001b[0m\u001b[0;34m\u001b[0m\u001b[0;34m\u001b[0m\u001b[0m\n\u001b[0m\u001b[1;32m      5\u001b[0m \u001b[0mplt\u001b[0m\u001b[0;34m.\u001b[0m\u001b[0mtitle\u001b[0m\u001b[0;34m(\u001b[0m\u001b[0;34m'Time Between CAN-BUS Signals'\u001b[0m\u001b[0;34m)\u001b[0m\u001b[0;34m\u001b[0m\u001b[0;34m\u001b[0m\u001b[0m\n\u001b[1;32m      6\u001b[0m \u001b[0mplt\u001b[0m\u001b[0;34m.\u001b[0m\u001b[0mylabel\u001b[0m\u001b[0;34m(\u001b[0m\u001b[0;34m'Time between Signals (S)'\u001b[0m\u001b[0;34m)\u001b[0m\u001b[0;34m\u001b[0m\u001b[0;34m\u001b[0m\u001b[0m\n",
            "\u001b[0;32m/usr/local/lib/python3.12/dist-packages/seaborn/categorical.py\u001b[0m in \u001b[0;36mboxplot\u001b[0;34m(data, x, y, hue, order, hue_order, orient, color, palette, saturation, fill, dodge, width, gap, whis, linecolor, linewidth, fliersize, hue_norm, native_scale, log_scale, formatter, legend, ax, **kwargs)\u001b[0m\n\u001b[1;32m   1632\u001b[0m     \u001b[0mlinecolor\u001b[0m \u001b[0;34m=\u001b[0m \u001b[0mp\u001b[0m\u001b[0;34m.\u001b[0m\u001b[0m_complement_color\u001b[0m\u001b[0;34m(\u001b[0m\u001b[0mlinecolor\u001b[0m\u001b[0;34m,\u001b[0m \u001b[0mcolor\u001b[0m\u001b[0;34m,\u001b[0m \u001b[0mp\u001b[0m\u001b[0;34m.\u001b[0m\u001b[0m_hue_map\u001b[0m\u001b[0;34m)\u001b[0m\u001b[0;34m\u001b[0m\u001b[0;34m\u001b[0m\u001b[0m\n\u001b[1;32m   1633\u001b[0m \u001b[0;34m\u001b[0m\u001b[0m\n\u001b[0;32m-> 1634\u001b[0;31m     p.plot_boxes(\n\u001b[0m\u001b[1;32m   1635\u001b[0m         \u001b[0mwidth\u001b[0m\u001b[0;34m=\u001b[0m\u001b[0mwidth\u001b[0m\u001b[0;34m,\u001b[0m\u001b[0;34m\u001b[0m\u001b[0;34m\u001b[0m\u001b[0m\n\u001b[1;32m   1636\u001b[0m         \u001b[0mdodge\u001b[0m\u001b[0;34m=\u001b[0m\u001b[0mdodge\u001b[0m\u001b[0;34m,\u001b[0m\u001b[0;34m\u001b[0m\u001b[0;34m\u001b[0m\u001b[0m\n",
            "\u001b[0;32m/usr/local/lib/python3.12/dist-packages/seaborn/categorical.py\u001b[0m in \u001b[0;36mplot_boxes\u001b[0;34m(self, width, dodge, gap, fill, whis, color, linecolor, linewidth, fliersize, plot_kws)\u001b[0m\n\u001b[1;32m    629\u001b[0m         \u001b[0max\u001b[0m \u001b[0;34m=\u001b[0m \u001b[0mself\u001b[0m\u001b[0;34m.\u001b[0m\u001b[0max\u001b[0m\u001b[0;34m\u001b[0m\u001b[0;34m\u001b[0m\u001b[0m\n\u001b[1;32m    630\u001b[0m \u001b[0;34m\u001b[0m\u001b[0m\n\u001b[0;32m--> 631\u001b[0;31m         for sub_vars, sub_data in self.iter_data(iter_vars,\n\u001b[0m\u001b[1;32m    632\u001b[0m                                                  \u001b[0mfrom_comp_data\u001b[0m\u001b[0;34m=\u001b[0m\u001b[0;32mTrue\u001b[0m\u001b[0;34m,\u001b[0m\u001b[0;34m\u001b[0m\u001b[0;34m\u001b[0m\u001b[0m\n\u001b[1;32m    633\u001b[0m                                                  allow_empty=False):\n",
            "\u001b[0;32m/usr/local/lib/python3.12/dist-packages/seaborn/_base.py\u001b[0m in \u001b[0;36miter_data\u001b[0;34m(self, grouping_vars, reverse, from_comp_data, by_facet, allow_empty, dropna)\u001b[0m\n\u001b[1;32m    900\u001b[0m \u001b[0;34m\u001b[0m\u001b[0m\n\u001b[1;32m    901\u001b[0m         \u001b[0;32mif\u001b[0m \u001b[0mfrom_comp_data\u001b[0m\u001b[0;34m:\u001b[0m\u001b[0;34m\u001b[0m\u001b[0;34m\u001b[0m\u001b[0m\n\u001b[0;32m--> 902\u001b[0;31m             \u001b[0mdata\u001b[0m \u001b[0;34m=\u001b[0m \u001b[0mself\u001b[0m\u001b[0;34m.\u001b[0m\u001b[0mcomp_data\u001b[0m\u001b[0;34m\u001b[0m\u001b[0;34m\u001b[0m\u001b[0m\n\u001b[0m\u001b[1;32m    903\u001b[0m         \u001b[0;32melse\u001b[0m\u001b[0;34m:\u001b[0m\u001b[0;34m\u001b[0m\u001b[0;34m\u001b[0m\u001b[0m\n\u001b[1;32m    904\u001b[0m             \u001b[0mdata\u001b[0m \u001b[0;34m=\u001b[0m \u001b[0mself\u001b[0m\u001b[0;34m.\u001b[0m\u001b[0mplot_data\u001b[0m\u001b[0;34m\u001b[0m\u001b[0;34m\u001b[0m\u001b[0m\n",
            "\u001b[0;32m/usr/local/lib/python3.12/dist-packages/seaborn/_base.py\u001b[0m in \u001b[0;36mcomp_data\u001b[0;34m(self)\u001b[0m\n\u001b[1;32m    990\u001b[0m                 \u001b[0mparts\u001b[0m \u001b[0;34m=\u001b[0m \u001b[0;34m[\u001b[0m\u001b[0;34m]\u001b[0m\u001b[0;34m\u001b[0m\u001b[0;34m\u001b[0m\u001b[0m\n\u001b[1;32m    991\u001b[0m                 \u001b[0mgrouped\u001b[0m \u001b[0;34m=\u001b[0m \u001b[0mself\u001b[0m\u001b[0;34m.\u001b[0m\u001b[0mplot_data\u001b[0m\u001b[0;34m[\u001b[0m\u001b[0mvar\u001b[0m\u001b[0;34m]\u001b[0m\u001b[0;34m.\u001b[0m\u001b[0mgroupby\u001b[0m\u001b[0;34m(\u001b[0m\u001b[0mself\u001b[0m\u001b[0;34m.\u001b[0m\u001b[0mconverters\u001b[0m\u001b[0;34m[\u001b[0m\u001b[0mvar\u001b[0m\u001b[0;34m]\u001b[0m\u001b[0;34m,\u001b[0m \u001b[0msort\u001b[0m\u001b[0;34m=\u001b[0m\u001b[0;32mFalse\u001b[0m\u001b[0;34m)\u001b[0m\u001b[0;34m\u001b[0m\u001b[0;34m\u001b[0m\u001b[0m\n\u001b[0;32m--> 992\u001b[0;31m                 \u001b[0;32mfor\u001b[0m \u001b[0mconverter\u001b[0m\u001b[0;34m,\u001b[0m \u001b[0morig\u001b[0m \u001b[0;32min\u001b[0m \u001b[0mgrouped\u001b[0m\u001b[0;34m:\u001b[0m\u001b[0;34m\u001b[0m\u001b[0;34m\u001b[0m\u001b[0m\n\u001b[0m\u001b[1;32m    993\u001b[0m                     \u001b[0morig\u001b[0m \u001b[0;34m=\u001b[0m \u001b[0morig\u001b[0m\u001b[0;34m.\u001b[0m\u001b[0mmask\u001b[0m\u001b[0;34m(\u001b[0m\u001b[0morig\u001b[0m\u001b[0;34m.\u001b[0m\u001b[0misin\u001b[0m\u001b[0;34m(\u001b[0m\u001b[0;34m[\u001b[0m\u001b[0mnp\u001b[0m\u001b[0;34m.\u001b[0m\u001b[0minf\u001b[0m\u001b[0;34m,\u001b[0m \u001b[0;34m-\u001b[0m\u001b[0mnp\u001b[0m\u001b[0;34m.\u001b[0m\u001b[0minf\u001b[0m\u001b[0;34m]\u001b[0m\u001b[0;34m)\u001b[0m\u001b[0;34m,\u001b[0m \u001b[0mnp\u001b[0m\u001b[0;34m.\u001b[0m\u001b[0mnan\u001b[0m\u001b[0;34m)\u001b[0m\u001b[0;34m\u001b[0m\u001b[0;34m\u001b[0m\u001b[0m\n\u001b[1;32m    994\u001b[0m                     \u001b[0morig\u001b[0m \u001b[0;34m=\u001b[0m \u001b[0morig\u001b[0m\u001b[0;34m.\u001b[0m\u001b[0mdropna\u001b[0m\u001b[0;34m(\u001b[0m\u001b[0;34m)\u001b[0m\u001b[0;34m\u001b[0m\u001b[0;34m\u001b[0m\u001b[0m\n",
            "\u001b[0;32m/usr/local/lib/python3.12/dist-packages/pandas/core/groupby/ops.py\u001b[0m in \u001b[0;36mget_iterator\u001b[0;34m(self, data, axis)\u001b[0m\n\u001b[1;32m    616\u001b[0m         \u001b[0;32mfor\u001b[0m \u001b[0meach\u001b[0m \u001b[0mgroup\u001b[0m\u001b[0;34m\u001b[0m\u001b[0;34m\u001b[0m\u001b[0m\n\u001b[1;32m    617\u001b[0m         \"\"\"\n\u001b[0;32m--> 618\u001b[0;31m         \u001b[0msplitter\u001b[0m \u001b[0;34m=\u001b[0m \u001b[0mself\u001b[0m\u001b[0;34m.\u001b[0m\u001b[0m_get_splitter\u001b[0m\u001b[0;34m(\u001b[0m\u001b[0mdata\u001b[0m\u001b[0;34m,\u001b[0m \u001b[0maxis\u001b[0m\u001b[0;34m=\u001b[0m\u001b[0maxis\u001b[0m\u001b[0;34m)\u001b[0m\u001b[0;34m\u001b[0m\u001b[0;34m\u001b[0m\u001b[0m\n\u001b[0m\u001b[1;32m    619\u001b[0m         \u001b[0mkeys\u001b[0m \u001b[0;34m=\u001b[0m \u001b[0mself\u001b[0m\u001b[0;34m.\u001b[0m\u001b[0mgroup_keys_seq\u001b[0m\u001b[0;34m\u001b[0m\u001b[0;34m\u001b[0m\u001b[0m\n\u001b[1;32m    620\u001b[0m         \u001b[0;32myield\u001b[0m \u001b[0;32mfrom\u001b[0m \u001b[0mzip\u001b[0m\u001b[0;34m(\u001b[0m\u001b[0mkeys\u001b[0m\u001b[0;34m,\u001b[0m \u001b[0msplitter\u001b[0m\u001b[0;34m)\u001b[0m\u001b[0;34m\u001b[0m\u001b[0;34m\u001b[0m\u001b[0m\n",
            "\u001b[0;32m/usr/local/lib/python3.12/dist-packages/pandas/core/groupby/ops.py\u001b[0m in \u001b[0;36m_get_splitter\u001b[0;34m(self, data, axis)\u001b[0m\n\u001b[1;32m    627\u001b[0m         \u001b[0mGenerator\u001b[0m \u001b[0myielding\u001b[0m \u001b[0msubsetted\u001b[0m \u001b[0mobjects\u001b[0m\u001b[0;34m\u001b[0m\u001b[0;34m\u001b[0m\u001b[0m\n\u001b[1;32m    628\u001b[0m         \"\"\"\n\u001b[0;32m--> 629\u001b[0;31m         \u001b[0mids\u001b[0m\u001b[0;34m,\u001b[0m \u001b[0m_\u001b[0m\u001b[0;34m,\u001b[0m \u001b[0mngroups\u001b[0m \u001b[0;34m=\u001b[0m \u001b[0mself\u001b[0m\u001b[0;34m.\u001b[0m\u001b[0mgroup_info\u001b[0m\u001b[0;34m\u001b[0m\u001b[0;34m\u001b[0m\u001b[0m\n\u001b[0m\u001b[1;32m    630\u001b[0m         return _get_splitter(\n\u001b[1;32m    631\u001b[0m             \u001b[0mdata\u001b[0m\u001b[0;34m,\u001b[0m\u001b[0;34m\u001b[0m\u001b[0;34m\u001b[0m\u001b[0m\n",
            "\u001b[0;32mproperties.pyx\u001b[0m in \u001b[0;36mpandas._libs.properties.CachedProperty.__get__\u001b[0;34m()\u001b[0m\n",
            "\u001b[0;32m/usr/local/lib/python3.12/dist-packages/pandas/core/groupby/ops.py\u001b[0m in \u001b[0;36mgroup_info\u001b[0;34m(self)\u001b[0m\n\u001b[1;32m    743\u001b[0m     \u001b[0;34m@\u001b[0m\u001b[0mcache_readonly\u001b[0m\u001b[0;34m\u001b[0m\u001b[0;34m\u001b[0m\u001b[0m\n\u001b[1;32m    744\u001b[0m     \u001b[0;32mdef\u001b[0m \u001b[0mgroup_info\u001b[0m\u001b[0;34m(\u001b[0m\u001b[0mself\u001b[0m\u001b[0;34m)\u001b[0m \u001b[0;34m->\u001b[0m \u001b[0mtuple\u001b[0m\u001b[0;34m[\u001b[0m\u001b[0mnpt\u001b[0m\u001b[0;34m.\u001b[0m\u001b[0mNDArray\u001b[0m\u001b[0;34m[\u001b[0m\u001b[0mnp\u001b[0m\u001b[0;34m.\u001b[0m\u001b[0mintp\u001b[0m\u001b[0;34m]\u001b[0m\u001b[0;34m,\u001b[0m \u001b[0mnpt\u001b[0m\u001b[0;34m.\u001b[0m\u001b[0mNDArray\u001b[0m\u001b[0;34m[\u001b[0m\u001b[0mnp\u001b[0m\u001b[0;34m.\u001b[0m\u001b[0mintp\u001b[0m\u001b[0;34m]\u001b[0m\u001b[0;34m,\u001b[0m \u001b[0mint\u001b[0m\u001b[0;34m]\u001b[0m\u001b[0;34m:\u001b[0m\u001b[0;34m\u001b[0m\u001b[0;34m\u001b[0m\u001b[0m\n\u001b[0;32m--> 745\u001b[0;31m         \u001b[0mcomp_ids\u001b[0m\u001b[0;34m,\u001b[0m \u001b[0mobs_group_ids\u001b[0m \u001b[0;34m=\u001b[0m \u001b[0mself\u001b[0m\u001b[0;34m.\u001b[0m\u001b[0m_get_compressed_codes\u001b[0m\u001b[0;34m(\u001b[0m\u001b[0;34m)\u001b[0m\u001b[0;34m\u001b[0m\u001b[0;34m\u001b[0m\u001b[0m\n\u001b[0m\u001b[1;32m    746\u001b[0m \u001b[0;34m\u001b[0m\u001b[0m\n\u001b[1;32m    747\u001b[0m         \u001b[0mngroups\u001b[0m \u001b[0;34m=\u001b[0m \u001b[0mlen\u001b[0m\u001b[0;34m(\u001b[0m\u001b[0mobs_group_ids\u001b[0m\u001b[0;34m)\u001b[0m\u001b[0;34m\u001b[0m\u001b[0;34m\u001b[0m\u001b[0m\n",
            "\u001b[0;32m/usr/local/lib/python3.12/dist-packages/pandas/core/groupby/ops.py\u001b[0m in \u001b[0;36m_get_compressed_codes\u001b[0;34m(self)\u001b[0m\n\u001b[1;32m    767\u001b[0m \u001b[0;34m\u001b[0m\u001b[0m\n\u001b[1;32m    768\u001b[0m         \u001b[0mping\u001b[0m \u001b[0;34m=\u001b[0m \u001b[0mself\u001b[0m\u001b[0;34m.\u001b[0m\u001b[0mgroupings\u001b[0m\u001b[0;34m[\u001b[0m\u001b[0;36m0\u001b[0m\u001b[0;34m]\u001b[0m\u001b[0;34m\u001b[0m\u001b[0;34m\u001b[0m\u001b[0m\n\u001b[0;32m--> 769\u001b[0;31m         \u001b[0;32mreturn\u001b[0m \u001b[0mping\u001b[0m\u001b[0;34m.\u001b[0m\u001b[0mcodes\u001b[0m\u001b[0;34m,\u001b[0m \u001b[0mnp\u001b[0m\u001b[0;34m.\u001b[0m\u001b[0marange\u001b[0m\u001b[0;34m(\u001b[0m\u001b[0mlen\u001b[0m\u001b[0;34m(\u001b[0m\u001b[0mping\u001b[0m\u001b[0;34m.\u001b[0m\u001b[0m_group_index\u001b[0m\u001b[0;34m)\u001b[0m\u001b[0;34m,\u001b[0m \u001b[0mdtype\u001b[0m\u001b[0;34m=\u001b[0m\u001b[0mnp\u001b[0m\u001b[0;34m.\u001b[0m\u001b[0mintp\u001b[0m\u001b[0;34m)\u001b[0m\u001b[0;34m\u001b[0m\u001b[0;34m\u001b[0m\u001b[0m\n\u001b[0m\u001b[1;32m    770\u001b[0m \u001b[0;34m\u001b[0m\u001b[0m\n\u001b[1;32m    771\u001b[0m     \u001b[0;34m@\u001b[0m\u001b[0mfinal\u001b[0m\u001b[0;34m\u001b[0m\u001b[0;34m\u001b[0m\u001b[0m\n",
            "\u001b[0;32m/usr/local/lib/python3.12/dist-packages/pandas/core/groupby/grouper.py\u001b[0m in \u001b[0;36mcodes\u001b[0;34m(self)\u001b[0m\n\u001b[1;32m    689\u001b[0m     \u001b[0;34m@\u001b[0m\u001b[0mproperty\u001b[0m\u001b[0;34m\u001b[0m\u001b[0;34m\u001b[0m\u001b[0m\n\u001b[1;32m    690\u001b[0m     \u001b[0;32mdef\u001b[0m \u001b[0mcodes\u001b[0m\u001b[0;34m(\u001b[0m\u001b[0mself\u001b[0m\u001b[0;34m)\u001b[0m \u001b[0;34m->\u001b[0m \u001b[0mnpt\u001b[0m\u001b[0;34m.\u001b[0m\u001b[0mNDArray\u001b[0m\u001b[0;34m[\u001b[0m\u001b[0mnp\u001b[0m\u001b[0;34m.\u001b[0m\u001b[0msignedinteger\u001b[0m\u001b[0;34m]\u001b[0m\u001b[0;34m:\u001b[0m\u001b[0;34m\u001b[0m\u001b[0;34m\u001b[0m\u001b[0m\n\u001b[0;32m--> 691\u001b[0;31m         \u001b[0;32mreturn\u001b[0m \u001b[0mself\u001b[0m\u001b[0;34m.\u001b[0m\u001b[0m_codes_and_uniques\u001b[0m\u001b[0;34m[\u001b[0m\u001b[0;36m0\u001b[0m\u001b[0;34m]\u001b[0m\u001b[0;34m\u001b[0m\u001b[0;34m\u001b[0m\u001b[0m\n\u001b[0m\u001b[1;32m    692\u001b[0m \u001b[0;34m\u001b[0m\u001b[0m\n\u001b[1;32m    693\u001b[0m     \u001b[0;34m@\u001b[0m\u001b[0mcache_readonly\u001b[0m\u001b[0;34m\u001b[0m\u001b[0;34m\u001b[0m\u001b[0m\n",
            "\u001b[0;32mproperties.pyx\u001b[0m in \u001b[0;36mpandas._libs.properties.CachedProperty.__get__\u001b[0;34m()\u001b[0m\n",
            "\u001b[0;32m/usr/local/lib/python3.12/dist-packages/pandas/core/groupby/grouper.py\u001b[0m in \u001b[0;36m_codes_and_uniques\u001b[0;34m(self)\u001b[0m\n\u001b[1;32m    833\u001b[0m             \u001b[0;31m# error: Incompatible types in assignment (expression has type \"Union[\u001b[0m\u001b[0;34m\u001b[0m\u001b[0;34m\u001b[0m\u001b[0m\n\u001b[1;32m    834\u001b[0m             \u001b[0;31m# ndarray[Any, Any], Index]\", variable has type \"Categorical\")\u001b[0m\u001b[0;34m\u001b[0m\u001b[0;34m\u001b[0m\u001b[0m\n\u001b[0;32m--> 835\u001b[0;31m             codes, uniques = algorithms.factorize(  # type: ignore[assignment]\n\u001b[0m\u001b[1;32m    836\u001b[0m                 \u001b[0mself\u001b[0m\u001b[0;34m.\u001b[0m\u001b[0mgrouping_vector\u001b[0m\u001b[0;34m,\u001b[0m \u001b[0msort\u001b[0m\u001b[0;34m=\u001b[0m\u001b[0mself\u001b[0m\u001b[0;34m.\u001b[0m\u001b[0m_sort\u001b[0m\u001b[0;34m,\u001b[0m \u001b[0muse_na_sentinel\u001b[0m\u001b[0;34m=\u001b[0m\u001b[0mself\u001b[0m\u001b[0;34m.\u001b[0m\u001b[0m_dropna\u001b[0m\u001b[0;34m\u001b[0m\u001b[0;34m\u001b[0m\u001b[0m\n\u001b[1;32m    837\u001b[0m             )\n",
            "\u001b[0;32m/usr/local/lib/python3.12/dist-packages/pandas/core/algorithms.py\u001b[0m in \u001b[0;36mfactorize\u001b[0;34m(values, sort, use_na_sentinel, size_hint)\u001b[0m\n\u001b[1;32m    793\u001b[0m                 \u001b[0mvalues\u001b[0m \u001b[0;34m=\u001b[0m \u001b[0mnp\u001b[0m\u001b[0;34m.\u001b[0m\u001b[0mwhere\u001b[0m\u001b[0;34m(\u001b[0m\u001b[0mnull_mask\u001b[0m\u001b[0;34m,\u001b[0m \u001b[0mna_value\u001b[0m\u001b[0;34m,\u001b[0m \u001b[0mvalues\u001b[0m\u001b[0;34m)\u001b[0m\u001b[0;34m\u001b[0m\u001b[0;34m\u001b[0m\u001b[0m\n\u001b[1;32m    794\u001b[0m \u001b[0;34m\u001b[0m\u001b[0m\n\u001b[0;32m--> 795\u001b[0;31m         codes, uniques = factorize_array(\n\u001b[0m\u001b[1;32m    796\u001b[0m             \u001b[0mvalues\u001b[0m\u001b[0;34m,\u001b[0m\u001b[0;34m\u001b[0m\u001b[0;34m\u001b[0m\u001b[0m\n\u001b[1;32m    797\u001b[0m             \u001b[0muse_na_sentinel\u001b[0m\u001b[0;34m=\u001b[0m\u001b[0muse_na_sentinel\u001b[0m\u001b[0;34m,\u001b[0m\u001b[0;34m\u001b[0m\u001b[0;34m\u001b[0m\u001b[0m\n",
            "\u001b[0;32m/usr/local/lib/python3.12/dist-packages/pandas/core/algorithms.py\u001b[0m in \u001b[0;36mfactorize_array\u001b[0;34m(values, use_na_sentinel, size_hint, na_value, mask)\u001b[0m\n\u001b[1;32m    593\u001b[0m \u001b[0;34m\u001b[0m\u001b[0m\n\u001b[1;32m    594\u001b[0m     \u001b[0mtable\u001b[0m \u001b[0;34m=\u001b[0m \u001b[0mhash_klass\u001b[0m\u001b[0;34m(\u001b[0m\u001b[0msize_hint\u001b[0m \u001b[0;32mor\u001b[0m \u001b[0mlen\u001b[0m\u001b[0;34m(\u001b[0m\u001b[0mvalues\u001b[0m\u001b[0;34m)\u001b[0m\u001b[0;34m)\u001b[0m\u001b[0;34m\u001b[0m\u001b[0;34m\u001b[0m\u001b[0m\n\u001b[0;32m--> 595\u001b[0;31m     uniques, codes = table.factorize(\n\u001b[0m\u001b[1;32m    596\u001b[0m         \u001b[0mvalues\u001b[0m\u001b[0;34m,\u001b[0m\u001b[0;34m\u001b[0m\u001b[0;34m\u001b[0m\u001b[0m\n\u001b[1;32m    597\u001b[0m         \u001b[0mna_sentinel\u001b[0m\u001b[0;34m=\u001b[0m\u001b[0;34m-\u001b[0m\u001b[0;36m1\u001b[0m\u001b[0;34m,\u001b[0m\u001b[0;34m\u001b[0m\u001b[0;34m\u001b[0m\u001b[0m\n",
            "\u001b[0;31mKeyboardInterrupt\u001b[0m: "
          ]
        },
        {
          "output_type": "display_data",
          "data": {
            "text/plain": [
              "<Figure size 600x400 with 1 Axes>"
            ],
            "image/png": "[encoded data removed]"
          },
          "metadata": {}
        }
      ]
    },
    {
      "cell_type": "code",
      "source": [],
      "metadata": {
        "id": "M01SCCUXqeuU"
      },
      "execution_count": null,
      "outputs": []
    },
    {
      "cell_type": "code",
      "source": [
        "## Value counts for the CAN Bus IDs\n",
        "#normal_df['ID'].value_counts() #> 50000\n",
        "\n",
        "high_freq_entries = normal_df['ID'].value_counts()\n",
        "normal_can_bus_IDs = high_freq_entries[high_freq_entries > 50000].index.tolist()\n"
      ],
      "metadata": {
        "id": "EY28N-gvuzPZ",
        "collapsed": true
      },
      "execution_count": null,
      "outputs": []
    },
    {
      "cell_type": "markdown",
      "source": [
        "## Formatted datasets"
      ],
      "metadata": {
        "id": "9cwFWddWiiQX"
      }
    },
    {
      "cell_type": "code",
      "source": [
        "normal_data = format_CAN_bus_data(normal_df, normal_can_bus_IDs)\n",
        "fuzz_data = format_CAN_bus_data(fuzz_df1, normal_can_bus_IDs)\n",
        "DoS_data = format_CAN_bus_data(DoS_df1, normal_can_bus_IDs)\n",
        "rpm_data = format_CAN_bus_data(rpm_df1, normal_can_bus_IDs)\n",
        "gear_data = format_CAN_bus_data(gear_df1, normal_can_bus_IDs)\n",
        "\n",
        "rpm_data.head()"
      ],
      "metadata": {
        "colab": {
          "base_uri": "https://localhost:8080/",
          "height": 216
        },
        "id": "0sEGsZX3oGfm",
        "outputId": "130cef73-026a-4a49-93bf-09c38d8afbaf"
      },
      "execution_count": 30,
      "outputs": [
        {
          "output_type": "error",
          "ename": "NameError",
          "evalue": "name 'normal_can_bus_IDs' is not defined",
          "traceback": [
            "\u001b[0;31m---------------------------------------------------------------------------\u001b[0m",
            "\u001b[0;31mNameError\u001b[0m                                 Traceback (most recent call last)",
            "\u001b[0;32m/tmp/ipython-input-2902784098.py\u001b[0m in \u001b[0;36m<cell line: 0>\u001b[0;34m()\u001b[0m\n\u001b[0;32m----> 1\u001b[0;31m \u001b[0mnormal_data\u001b[0m \u001b[0;34m=\u001b[0m \u001b[0mformat_CAN_bus_data\u001b[0m\u001b[0;34m(\u001b[0m\u001b[0mnormal_df\u001b[0m\u001b[0;34m,\u001b[0m \u001b[0mnormal_can_bus_IDs\u001b[0m\u001b[0;34m)\u001b[0m\u001b[0;34m\u001b[0m\u001b[0;34m\u001b[0m\u001b[0m\n\u001b[0m\u001b[1;32m      2\u001b[0m \u001b[0mfuzz_data\u001b[0m \u001b[0;34m=\u001b[0m \u001b[0mformat_CAN_bus_data\u001b[0m\u001b[0;34m(\u001b[0m\u001b[0mfuzz_df1\u001b[0m\u001b[0;34m,\u001b[0m \u001b[0mnormal_can_bus_IDs\u001b[0m\u001b[0;34m)\u001b[0m\u001b[0;34m\u001b[0m\u001b[0;34m\u001b[0m\u001b[0m\n\u001b[1;32m      3\u001b[0m \u001b[0mDoS_data\u001b[0m \u001b[0;34m=\u001b[0m \u001b[0mformat_CAN_bus_data\u001b[0m\u001b[0;34m(\u001b[0m\u001b[0mDoS_df1\u001b[0m\u001b[0;34m,\u001b[0m \u001b[0mnormal_can_bus_IDs\u001b[0m\u001b[0;34m)\u001b[0m\u001b[0;34m\u001b[0m\u001b[0;34m\u001b[0m\u001b[0m\n\u001b[1;32m      4\u001b[0m \u001b[0mrpm_data\u001b[0m \u001b[0;34m=\u001b[0m \u001b[0mformat_CAN_bus_data\u001b[0m\u001b[0;34m(\u001b[0m\u001b[0mrpm_df1\u001b[0m\u001b[0;34m,\u001b[0m \u001b[0mnormal_can_bus_IDs\u001b[0m\u001b[0;34m)\u001b[0m\u001b[0;34m\u001b[0m\u001b[0;34m\u001b[0m\u001b[0m\n\u001b[1;32m      5\u001b[0m \u001b[0mgear_data\u001b[0m \u001b[0;34m=\u001b[0m \u001b[0mformat_CAN_bus_data\u001b[0m\u001b[0;34m(\u001b[0m\u001b[0mgear_df1\u001b[0m\u001b[0;34m,\u001b[0m \u001b[0mnormal_can_bus_IDs\u001b[0m\u001b[0;34m)\u001b[0m\u001b[0;34m\u001b[0m\u001b[0;34m\u001b[0m\u001b[0m\n",
            "\u001b[0;31mNameError\u001b[0m: name 'normal_can_bus_IDs' is not defined"
          ]
        }
      ]
    },
    {
      "cell_type": "code",
      "source": [
        "normal_data = normal_data.astype(\"float32\")\n",
        "fuzz_data = fuzz_data.astype(\"float32\")\n",
        "DoS_data = DoS_data.astype(\"float32\")\n",
        "rpm_data = rpm_data.astype(\"float32\")\n",
        "gear_data = gear_data.astype(\"float32\")"
      ],
      "metadata": {
        "id": "goOOr4Tq_LS6"
      },
      "execution_count": null,
      "outputs": []
    },
    {
      "cell_type": "code",
      "source": [
        "normal_data"
      ],
      "metadata": {
        "id": "_TPoF9coGJZL"
      },
      "execution_count": null,
      "outputs": []
    },
    {
      "cell_type": "markdown",
      "source": [
        "### Get data ready for loading"
      ],
      "metadata": {
        "id": "zRfoJVd6BhJt"
      }
    },
    {
      "cell_type": "code",
      "source": [],
      "metadata": {
        "id": "3nLZ8SrQGMCR"
      },
      "execution_count": null,
      "outputs": []
    },
    {
      "cell_type": "code",
      "execution_count": null,
      "metadata": {
        "id": "2HkRU2F71RdB"
      },
      "outputs": [],
      "source": [
        "X = normal_data.astype(\"float32\")   # convert to float 32\n",
        "X_train, X_temp = train_test_split(X, test_size=0.3, random_state=42) # create training set\n",
        "X_val, X_test = train_test_split(X_temp, test_size=0.5, random_state=42) # create validation and training set"
      ]
    },
    {
      "cell_type": "markdown",
      "source": [],
      "metadata": {
        "id": "5GOmbAznza72"
      }
    },
    {
      "cell_type": "markdown",
      "source": [
        "### Create the autoencoder"
      ],
      "metadata": {
        "id": "KpY9SSC2DLVD"
      }
    },
    {
      "cell_type": "code",
      "source": [
        "## Autoencoder class\n",
        "class AutoencoderModel:\n",
        "  def __init__(self, input_output_dim, encod_decod_dim, latent_dim, activations, output_activation, latent_activation, optimizer, loss, encode_dropout = False, decode_dropout = False, vae = False, vae_beta = 1):\n",
        "    self.input_output_dim = input_output_dim\n",
        "    self.latent_dim = latent_dim\n",
        "    self.activations = activations\n",
        "    self.encod_decod_dim = encod_decod_dim\n",
        "    self.output_activation = output_activation\n",
        "    self.latent_activation = latent_activation\n",
        "    self.optimizer = optimizer\n",
        "    self.loss = loss\n",
        "    self.encode_dropout = encode_dropout\n",
        "    self.decode_dropout = decode_dropout\n",
        "    self.vae = vae\n",
        "    self.vae_beta = vae_beta\n",
        "    self.inference_errors = {}\n",
        "    self.training_history = None\n",
        "    self.model = self._build_model()\n",
        "\n",
        "  def _build_model(self):\n",
        "    ## Input layer\n",
        "    input_layer = layers.Input(shape=(self.input_output_dim,)) # assign the input layer\n",
        "    x = input_layer\n",
        "\n",
        "    ## Build the encoder\n",
        "    for i in range(len(self.activations)):\n",
        "      x = layers.Dense(self.encod_decod_dim[i], activation=self.activations[i])(x)\n",
        "      if self.encode_dropout:\n",
        "        x = layers.Dropout(self.encode_dropout)(x)\n",
        "\n",
        "\n",
        "    # Latent space\n",
        "    if self.vae:\n",
        "      z_mean = layers.Dense(self.latent_dim)(x)\n",
        "      z_log_var = layers.Dense(self.latent_dim)(x)\n",
        "      z = SamplingLayer(beta=self.vae_beta)([z_mean, z_log_var])\n",
        "      latent = z\n",
        "    else:\n",
        "      latent = layers.Dense(self.latent_dim, activation=self.latent_activation)(x)\n",
        "\n",
        "\n",
        "    ## Build the decoder\n",
        "    x = latent\n",
        "    for i in range(len(self.activations)-1, -1, -1):\n",
        "      x = layers.Dense(self.encod_decod_dim[i], activation=self.activations[i])(x)\n",
        "      if self.decode_dropout:\n",
        "        x = layers.Dropout(self.decode_dropout)(x)\n",
        "\n",
        "    ## Output layer\n",
        "    output_layer = layers.Dense(self.input_output_dim, activation=self.output_activation)(x)\n",
        "\n",
        "    ## Create the model\n",
        "    autoencoder = models.Model(inputs=input_layer, outputs=output_layer)\n",
        "    autoencoder.compile(optimizer=self.optimizer, loss=self.loss)\n",
        "\n",
        "    return autoencoder\n",
        "\n",
        "  ## Fit the model\n",
        "  def fit(self, X_train, X_val, epochs, batch_size, shuffle = True, verbose = True, call_backs = [], **kwargs):\n",
        "    self.training_history = self.model.fit(\n",
        "        X_train, X_train,\n",
        "        epochs=epochs,\n",
        "        batch_size=batch_size,\n",
        "        shuffle=shuffle,\n",
        "        validation_data=(X_val, X_val),\n",
        "        verbose = verbose,\n",
        "        callbacks = call_backs,\n",
        "        **kwargs\n",
        "    )\n",
        "\n",
        "  ## Plot loss\n",
        "  def plot_loss(self):\n",
        "        import matplotlib.pyplot as plt\n",
        "        if self.training_history.history:\n",
        "            plt.plot(self.training_history.history['loss'], label='Training Loss')\n",
        "            plt.plot(self.training_history.history['val_loss'], label='Validation Loss')\n",
        "            plt.xlabel('Epochs')\n",
        "            plt.ylabel('Loss')\n",
        "            plt.legend()\n",
        "            plt.title('Training vs Validation Loss')\n",
        "            plt.grid(True)\n",
        "            plt.show()\n",
        "        else:\n",
        "            print(\"Model has not been trained yet.\")\n",
        "\n",
        "  ## Inference\n",
        "  def infer(self, X, inf_name, cats = None):\n",
        "        \"\"\"\n",
        "        Returns reconstructed output and reconstruction error for input X.\n",
        "        \"\"\"\n",
        "        # get the bus IDs\n",
        "        busErrDict = {'BUS ID': X.iloc[:, 0:18].idxmax(axis=1)}\n",
        "\n",
        "\n",
        "        import numpy as np\n",
        "        reconstructed = self.model.predict(X)\n",
        "        busErrDict['MSE Error'] = np.mean(np.square(X - reconstructed), axis=1)\n",
        "        busErrDict['MAE Error'] = np.mean(np.abs(X - reconstructed), axis=1)\n",
        "        busErrDict['Label'] = inf_name\n",
        "\n",
        "        busErrDf = pd.DataFrame(busErrDict)\n",
        "        self.inference_errors[inf_name] = busErrDf\n",
        "\n",
        "        return reconstructed, busErrDf\n",
        "\n",
        "\n",
        "\n"
      ],
      "metadata": {
        "id": "IYtZWKvBGIBL"
      },
      "execution_count": null,
      "outputs": []
    },
    {
      "cell_type": "code",
      "source": [
        "# VAE sampling class\n",
        "\n",
        "class SamplingLayer(layers.Layer):\n",
        "    def __init__(self, beta=1.0, **kwargs):\n",
        "        super(SamplingLayer, self).__init__(**kwargs)\n",
        "        self.beta = beta\n",
        "\n",
        "    def call(self, inputs):\n",
        "        z_mean, z_log_var = inputs\n",
        "        epsilon = tf.random.normal(shape=tf.shape(z_mean))\n",
        "        z = z_mean + tf.exp(0.5 * z_log_var) * epsilon\n",
        "        kl_loss = -0.5 * tf.reduce_mean(1 + z_log_var - tf.square(z_mean) - tf.exp(z_log_var))\n",
        "        self.add_loss(self.beta * kl_loss)\n",
        "        return z\n"
      ],
      "metadata": {
        "id": "i-qy38gJHt2W"
      },
      "execution_count": null,
      "outputs": []
    },
    {
      "cell_type": "markdown",
      "source": [],
      "metadata": {
        "id": "cEPWki197zug"
      }
    },
    {
      "cell_type": "code",
      "source": [
        "#del m1\n",
        "m1 = AutoencoderModel(26, [64,32], 16, ['relu', 'relu'], 'sigmoid', 'relu','adam', 'mse', encode_dropout = False, decode_dropout = False, vae = False)\n",
        "m1.model.summary()"
      ],
      "metadata": {
        "id": "H0qzhmXo3QFV"
      },
      "execution_count": null,
      "outputs": []
    },
    {
      "cell_type": "markdown",
      "source": [
        "### Train the model"
      ],
      "metadata": {
        "id": "6NWhcsEXEJc6"
      }
    },
    {
      "cell_type": "code",
      "source": [
        "#%%timeit\n",
        "callback = tf.keras.callbacks.EarlyStopping(monitor=\"val_loss\", patience=5, restore_best_weights=True)\n",
        "m1.fit(X_train, X_val, epochs = 20, batch_size = 128, call_backs = [callback])\n"
      ],
      "metadata": {
        "id": "kg-K8U2BFArQ"
      },
      "execution_count": null,
      "outputs": []
    },
    {
      "cell_type": "code",
      "source": [
        "import matplotlib.pyplot as plt\n",
        "\n",
        "plt.plot(m1.training_history.history['loss'], label='Training Loss')\n",
        "plt.plot(m1.training_history.history['val_loss'], label='Validation Loss')\n",
        "plt.xlabel('Epochs')\n",
        "plt.ylabel('Loss')\n",
        "plt.legend()\n",
        "plt.title('Training vs Validation Loss')\n",
        "plt.grid(True)\n",
        "plt.show()"
      ],
      "metadata": {
        "id": "otGEfRtYAmpo"
      },
      "execution_count": null,
      "outputs": []
    },
    {
      "cell_type": "code",
      "source": [],
      "metadata": {
        "id": "2hEZfp8zAzGG"
      },
      "execution_count": null,
      "outputs": []
    },
    {
      "cell_type": "code",
      "source": [
        "m1.infer(X_test, 'Test')\n",
        "m1.infer(rpm_data, 'rpm')\n",
        "m1.infer(fuzz_data, 'fuzzy')\n",
        "m1.infer(DoS_data, 'DoS')"
      ],
      "metadata": {
        "id": "vyGsEjIQIVUY"
      },
      "execution_count": null,
      "outputs": []
    },
    {
      "cell_type": "code",
      "source": [
        "test_infer = m1.inference_errors['Test'].copy()\n",
        "rpm_infer = m1.inference_errors['rpm'].copy()\n",
        "fuzz_infer = m1.inference_errors['fuzzy'].copy()\n",
        "DoS_infer = m1.inference_errors['DoS'].copy()"
      ],
      "metadata": {
        "id": "r0_FtkNog1hU"
      },
      "execution_count": null,
      "outputs": []
    },
    {
      "cell_type": "code",
      "source": [
        "test_infer['BUS ID Cat'] = pd.Categorical(test_infer['BUS ID'], categories=X_test.columns[0:18])\n",
        "rpm_infer['BUS ID Cat'] = pd.Categorical(rpm_infer['BUS ID'], categories=X_test.columns[0:18])\n",
        "fuzz_infer['BUS ID Cat'] = pd.Categorical(fuzz_infer['BUS ID'], categories=X_test.columns[0:18])\n",
        "DoS_infer['BUS ID Cat'] = pd.Categorical(DoS_infer['BUS ID'], categories=X_test.columns[0:18])"
      ],
      "metadata": {
        "id": "T-VBStKh-OQJ"
      },
      "execution_count": null,
      "outputs": []
    },
    {
      "cell_type": "code",
      "source": [
        "x3[x3['BUS ID'] == '02c0']['Error'].unique(), y3[y3['BUS ID'] == '02c0']['Error'].unique()"
      ],
      "metadata": {
        "id": "MI76LdPnFrRn"
      },
      "execution_count": null,
      "outputs": []
    },
    {
      "cell_type": "code",
      "source": [
        "plt.figure(figsize=(10, 6))\n",
        "sns.histplot( x='MSE Error', data=test_infer)\n",
        "#sns.boxplot( y='Error', data=y3, x='BUS ID')\n",
        "plt.title('Reconstruction Error Distribution by Scenario')\n",
        "plt.ylabel('Reconstruction Error')\n",
        "plt.xlabel('Recon')\n",
        "plt.grid(True)\n",
        "plt.tight_layout()\n",
        "plt.show()"
      ],
      "metadata": {
        "id": "c3KcxLYVIEpW"
      },
      "execution_count": null,
      "outputs": []
    },
    {
      "cell_type": "code",
      "source": [
        "X_test.columns[0:18]"
      ],
      "metadata": {
        "id": "H6_tvu0UDm4c"
      },
      "execution_count": null,
      "outputs": []
    },
    {
      "cell_type": "code",
      "source": [
        "plt.figure(figsize=(10, 6))\n",
        "#sns.histplot( x='Error', data=x3, hue='Label')\n",
        "sns.boxplot( y='MSE Error', data=test_infer, x='BUS ID Cat')\n",
        "plt.title('Reconstruction Error Distribution by Scenario Test Set')\n",
        "plt.ylabel('Reconstruction Error')\n",
        "plt.xlabel('Bus')\n",
        "plt.grid(True)\n",
        "plt.tight_layout()\n",
        "plt.show()\n",
        "\n",
        "plt.figure(figsize=(10, 6))\n",
        "#sns.histplot( x='Error', data=x3, hue='Label')\n",
        "sns.boxplot( y='MSE Error', data=rpm_infer, x='BUS ID Cat')\n",
        "plt.title('Reconstruction Error Distribution by Scenario RPM')\n",
        "plt.ylabel('Reconstruction Error')\n",
        "plt.xlabel('Bus')\n",
        "plt.grid(True)\n",
        "plt.tight_layout()\n",
        "plt.show()\n",
        "\n",
        "plt.figure(figsize=(10, 6))\n",
        "#sns.histplot( x='Error', data=x3, hue='Label')\n",
        "sns.boxplot( y='MSE Error', data=fuzz_infer, x='BUS ID Cat')\n",
        "plt.title('Reconstruction Error Distribution by Scenario Fuzzy Attack')\n",
        "plt.ylabel('Reconstruction Error')\n",
        "plt.xlabel('Bus')\n",
        "plt.grid(True)\n",
        "plt.tight_layout()\n",
        "plt.show()\n",
        "\n",
        "plt.figure(figsize=(10, 6))\n",
        "#sns.histplot( x='Error', data=x3, hue='Label')\n",
        "sns.boxplot( y='MSE Error', data=DoS_infer, x='BUS ID Cat')\n",
        "plt.title('Reconstruction Error Distribution by Scenario DoS')\n",
        "plt.ylabel('Reconstruction Error')\n",
        "plt.xlabel('Bus')\n",
        "plt.grid(True)\n",
        "plt.tight_layout()\n",
        "plt.show()\n",
        "\n"
      ],
      "metadata": {
        "id": "-V3wu0hwo9pm"
      },
      "execution_count": null,
      "outputs": []
    },
    {
      "cell_type": "code",
      "source": [
        "test_rpm_infer = data=pd.concat([test_infer,rpm_infer])\n",
        "test_rpm_infer.loc[test_rpm_infer['BUS ID'] != '0316', 'BUS ID'] = 'Other'\n",
        "#\n",
        "#plt.figure(figsize=(10, 6))\n",
        "plt.figure(figsize=(6, 4))\n",
        "#sns.histplot( x='Error', data=x3, hue='Label')\n",
        "sns.boxplot( y='MSE Error', data=test_rpm_infer, x='BUS ID', hue='Label')\n",
        "plt.title('Reconstruction Error Test vs RPM Attack')\n",
        "plt.ylabel('Reconstruction Error')\n",
        "plt.xlabel('Bus')\n",
        "plt.grid(True)\n",
        "plt.tight_layout()\n",
        "plt.show()"
      ],
      "metadata": {
        "id": "xF3Jh8M4qX9L"
      },
      "execution_count": null,
      "outputs": []
    },
    {
      "cell_type": "code",
      "source": [
        "test_Fuzz_infer = data=pd.concat([test_infer,fuzz_infer])\n",
        "test_Fuzz_infer = test_Fuzz_infer[test_Fuzz_infer['BUS ID'] == '9999']\n",
        "\n",
        "plt.figure(figsize=(6, 4))\n",
        "#sns.histplot( x='Error', data=x3, hue='Label')\n",
        "sns.boxplot( y='MSE Error', data=test_Fuzz_infer, x='BUS ID', hue='Label')\n",
        "plt.title('Reconstruction Error Test vs Fuzzy Attack')\n",
        "plt.ylabel('Reconstruction Error')\n",
        "plt.xlabel('Bus')\n",
        "plt.grid(True)\n",
        "plt.tight_layout()\n",
        "plt.ylim(-0.05,0.3)\n",
        "plt.show()"
      ],
      "metadata": {
        "id": "BUUikS-wNI3S"
      },
      "execution_count": null,
      "outputs": []
    },
    {
      "cell_type": "markdown",
      "source": [],
      "metadata": {
        "id": "zF5-_NbEjNCH"
      }
    },
    {
      "cell_type": "code",
      "source": [
        "test_infer.loc[test_infer['BUS ID'] == '9999', 'MSE Error'].shape,DoS_infer.loc[DoS_infer['BUS ID'] == '9999', 'MSE Error'].shape"
      ],
      "metadata": {
        "id": "MFrpQMKXjBKn"
      },
      "execution_count": null,
      "outputs": []
    },
    {
      "cell_type": "code",
      "source": [
        "test_DoS_infer = data=pd.concat([test_infer,DoS_infer])\n",
        "test_DoS_infer = test_DoS_infer[test_DoS_infer['BUS ID'] == '9999']\n",
        "\n",
        "plt.figure(figsize=(10, 6))\n",
        "#plt.figure(figsize=(6, 4))\n",
        "#sns.histplot( x='Error', data=x3, hue='Label')\n",
        "sns.boxplot( y='MSE Error', data=test_DoS_infer, x='BUS ID', hue='Label')\n",
        "plt.title('Reconstruction Error Test vs DoS Attack')\n",
        "plt.ylabel('Reconstruction Error')\n",
        "plt.xlabel('Bus')\n",
        "plt.grid(True)\n",
        "plt.tight_layout()\n",
        "#plt.ylim(-0.05,0.5)\n",
        "plt.show()"
      ],
      "metadata": {
        "id": "MKm839TghmAZ"
      },
      "execution_count": null,
      "outputs": []
    },
    {
      "cell_type": "code",
      "source": [
        "thres = test_infer.loc[test_infer['BUS ID'] == '9999', 'MSE Error'].quantile(0.95)\n",
        "\n",
        "DoS_infer['Injection'] = DoS_injections\n",
        "DoS_infer_9999 =  DoS_infer[DoS_infer['BUS ID'] == '9999']\n",
        "\n",
        "\n",
        "DoS_infer_9999['Prediction'] = 0\n",
        "#DoS_infer_9999.loc[DoS_infer_9999['MSE Error'] < thres, 'Prediction'] = 1\n",
        "\n",
        "DoS_infer_9999['Prediction'].value_counts()\n",
        "thres"
      ],
      "metadata": {
        "id": "2U1ptYkmOXYg"
      },
      "execution_count": null,
      "outputs": []
    }
  ]
}