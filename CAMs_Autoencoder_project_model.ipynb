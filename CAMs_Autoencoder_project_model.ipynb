{
  "nbformat": 4,
  "nbformat_minor": 0,
  "metadata": {
    "colab": {
      "provenance": [],
      "authorship_tag": "ABX9TyPRvUG7JAa1f5p1ltMaVUc2",
      "include_colab_link": true
    },
    "kernelspec": {
      "name": "python3",
      "display_name": "Python 3"
    },
    "language_info": {
      "name": "python"
    }
  },
  "cells": [
    {
      "cell_type": "markdown",
      "metadata": {
        "id": "view-in-github",
        "colab_type": "text"
      },
      "source": [
        "<a href=\"https://colab.research.google.com/github/NachoDave/Automated-Vehicle-Anomalous-Driving-Behaviour/blob/main/CAMs_Autoencoder_project_model.ipynb\" target=\"_parent\"><img src=\"https://colab.research.google.com/assets/colab-badge.svg\" alt=\"Open In Colab\"/></a>"
      ]
    },
    {
      "cell_type": "markdown",
      "source": [
        "# Autoencoder project"
      ],
      "metadata": {
        "id": "1AFGlOPh2K_N"
      }
    },
    {
      "cell_type": "markdown",
      "source": [
        "## What do we need to do?\n",
        "\n",
        "\n",
        "1.   Get and format the data\n",
        "2.   Split the data into training, test and validation sets - initially will just add the data one measure at a time, but may need to combine them somehow\n",
        "3. Define the model\n",
        "4. Crea\n",
        "\n"
      ],
      "metadata": {
        "id": "-RLKffLJ2aKM"
      }
    },
    {
      "cell_type": "markdown",
      "source": [
        "### Import Libraries and connect to drive"
      ],
      "metadata": {
        "id": "FxXW9dT24iFC"
      }
    },
    {
      "cell_type": "code",
      "source": [
        "import os\n",
        "import pandas as pd\n",
        "from google.colab import drive\n",
        "\n",
        "drive.mount('/content/drive')\n",
        "dataset_dir = '/content/drive/MyDrive/datasets/car_hacking'"
      ],
      "metadata": {
        "id": "cca7iJm84hnw"
      },
      "execution_count": null,
      "outputs": []
    },
    {
      "cell_type": "markdown",
      "source": [
        "### Load the data"
      ],
      "metadata": {
        "id": "7nTBSKYh4RjC"
      }
    },
    {
      "cell_type": "code",
      "source": [
        "# Load standard dataset\n",
        "rpm_df = pd.read_csv(f\"{dataset_dir}/RPM_dataset.csv\", header=None)\n",
        "rpm_df.head()"
      ],
      "metadata": {
        "id": "iiaA49xi1-f_"
      },
      "execution_count": 1,
      "outputs": []
    },
    {
      "cell_type": "markdown",
      "source": [
        "### Format the data"
      ],
      "metadata": {
        "id": "tYD2kRTB4WQY"
      }
    },
    {
      "cell_type": "code",
      "source": [],
      "metadata": {
        "id": "DBv-2pQq2EUO"
      },
      "execution_count": null,
      "outputs": []
    },
    {
      "cell_type": "code",
      "execution_count": null,
      "metadata": {
        "id": "2HkRU2F71RdB"
      },
      "outputs": [],
      "source": []
    }
  ]
}